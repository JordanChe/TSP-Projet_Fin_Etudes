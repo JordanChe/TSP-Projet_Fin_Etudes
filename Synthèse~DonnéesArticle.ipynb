{
 "cells": [
  {
   "cell_type": "markdown",
   "metadata": {},
   "source": [
    "### <font color=darkred> [MSA : Modélisation, Apprentissage et Applications] </font>\n",
    "### <font color = darkblue> <div style=\"text-align: center\"> Projet de fin d'études\n",
    "### <font color = darkgreen> <div style=\"text-align: center\"> Apprentissage sur les données de l'article : Predicting Individual Thermal Comfort/ML\n",
    "### <font color = darkgreen> <div style=\"text-align: center\"> [Smart Building & OZE Energies]\n",
    "#### <font color = darkblue> <div style=\"text-align: right\"> Binôme : Jordan CHEMOUHOUM, Alaeddine ZEKRI\n"
   ]
  },
  {
   "cell_type": "code",
   "execution_count": 4,
   "metadata": {},
   "outputs": [],
   "source": [
    "import warnings\n",
    "warnings.filterwarnings('ignore')"
   ]
  },
  {
   "cell_type": "code",
   "execution_count": 5,
   "metadata": {},
   "outputs": [],
   "source": [
    "#Format des données\n",
    "import pandas as pd\n",
    "import numpy as np\n",
    "\n",
    "#Outils de graphs\n",
    "import matplotlib.pyplot as plt\n",
    "import seaborn as sns\n",
    "%matplotlib inline\n",
    "\n",
    "#ACP\n",
    "from sklearn.preprocessing import StandardScaler\n",
    "\n",
    "#Label Encoder\n",
    "from sklearn import preprocessing\n",
    "\n",
    "#Machine Learning tools\n",
    "from sklearn.model_selection import KFold\n",
    "from sklearn.model_selection import StratifiedKFold\n",
    "from sklearn.model_selection import cross_val_score\n",
    "from sklearn.model_selection import train_test_split\n",
    "from sklearn.metrics import classification_report\n",
    "\n",
    "#Machine Learning Models\n",
    "from sklearn.svm import SVC\n",
    "from sklearn.naive_bayes import GaussianNB\n",
    "from sklearn.linear_model import Perceptron\n",
    "from sklearn.linear_model import SGDClassifier\n",
    "from sklearn.tree import DecisionTreeClassifier\n",
    "from sklearn.ensemble import AdaBoostClassifier\n",
    "from sklearn.neighbors import KNeighborsClassifier\n",
    "from sklearn.linear_model import LogisticRegression\n",
    "from sklearn.ensemble import RandomForestClassifier\n",
    "from sklearn.ensemble import GradientBoostingClassifier\n",
    "from sklearn.discriminant_analysis import LinearDiscriminantAnalysis"
   ]
  },
  {
   "cell_type": "code",
   "execution_count": 6,
   "metadata": {},
   "outputs": [],
   "source": [
    "from random import randint"
   ]
  },
  {
   "cell_type": "markdown",
   "metadata": {},
   "source": [
    "# Jeu de données Université de sydney"
   ]
  },
  {
   "cell_type": "markdown",
   "metadata": {},
   "source": [
    "### I.1) Prépration des données"
   ]
  },
  {
   "cell_type": "markdown",
   "metadata": {},
   "source": [
    "#### Traitement primaire"
   ]
  },
  {
   "cell_type": "code",
   "execution_count": 7,
   "metadata": {},
   "outputs": [],
   "source": [
    "data_sydney47 = pd.read_excel('data/47_EXL.XLS')\n",
    "data_sydney48 = pd.read_excel('data/48_EXL.XLS')"
   ]
  },
  {
   "cell_type": "code",
   "execution_count": 8,
   "metadata": {},
   "outputs": [
    {
     "data": {
      "text/html": [
       "<div>\n",
       "<style>\n",
       "    .dataframe thead tr:only-child th {\n",
       "        text-align: right;\n",
       "    }\n",
       "\n",
       "    .dataframe thead th {\n",
       "        text-align: left;\n",
       "    }\n",
       "\n",
       "    .dataframe tbody tr th {\n",
       "        vertical-align: top;\n",
       "    }\n",
       "</style>\n",
       "<table border=\"1\" class=\"dataframe\">\n",
       "  <thead>\n",
       "    <tr style=\"text-align: right;\">\n",
       "      <th></th>\n",
       "      <th>K. Cena and R. J. de Dear. Summer, 1997. ASHRAE's RP-921 study in Kalgoorlie, Australia.</th>\n",
       "      <th>Unnamed: 1</th>\n",
       "      <th>Unnamed: 2</th>\n",
       "      <th>Unnamed: 3</th>\n",
       "      <th>Unnamed: 4</th>\n",
       "      <th>Unnamed: 5</th>\n",
       "      <th>Unnamed: 6</th>\n",
       "      <th>Unnamed: 7</th>\n",
       "      <th>Unnamed: 8</th>\n",
       "      <th>Unnamed: 9</th>\n",
       "      <th>...</th>\n",
       "      <th>Unnamed: 70</th>\n",
       "      <th>Unnamed: 71</th>\n",
       "      <th>Unnamed: 72</th>\n",
       "      <th>Unnamed: 73</th>\n",
       "      <th>Unnamed: 74</th>\n",
       "      <th>Unnamed: 75</th>\n",
       "      <th>Unnamed: 76</th>\n",
       "      <th>Unnamed: 77</th>\n",
       "      <th>Unnamed: 78</th>\n",
       "      <th>Unnamed: 79</th>\n",
       "    </tr>\n",
       "  </thead>\n",
       "  <tbody>\n",
       "    <tr>\n",
       "      <th>0</th>\n",
       "      <td>Basic Identifiers</td>\n",
       "      <td>NaN</td>\n",
       "      <td>NaN</td>\n",
       "      <td>NaN</td>\n",
       "      <td>NaN</td>\n",
       "      <td>NaN</td>\n",
       "      <td>NaN</td>\n",
       "      <td>Thermal Questionnaire</td>\n",
       "      <td>NaN</td>\n",
       "      <td>NaN</td>\n",
       "      <td>...</td>\n",
       "      <td>NaN</td>\n",
       "      <td>Outdoor Meteorological Data</td>\n",
       "      <td>NaN</td>\n",
       "      <td>NaN</td>\n",
       "      <td>NaN</td>\n",
       "      <td>NaN</td>\n",
       "      <td>NaN</td>\n",
       "      <td>NaN</td>\n",
       "      <td>NaN</td>\n",
       "      <td>NaN</td>\n",
       "    </tr>\n",
       "    <tr>\n",
       "      <th>1</th>\n",
       "      <td>NaN</td>\n",
       "      <td>NaN</td>\n",
       "      <td>NaN</td>\n",
       "      <td>NaN</td>\n",
       "      <td>NaN</td>\n",
       "      <td>NaN</td>\n",
       "      <td>NaN</td>\n",
       "      <td>NaN</td>\n",
       "      <td>NaN</td>\n",
       "      <td>NaN</td>\n",
       "      <td>...</td>\n",
       "      <td>NaN</td>\n",
       "      <td>NaN</td>\n",
       "      <td>NaN</td>\n",
       "      <td>NaN</td>\n",
       "      <td>NaN</td>\n",
       "      <td>NaN</td>\n",
       "      <td>NaN</td>\n",
       "      <td>NaN</td>\n",
       "      <td>NaN</td>\n",
       "      <td>NaN</td>\n",
       "    </tr>\n",
       "    <tr>\n",
       "      <th>2</th>\n",
       "      <td>NaN</td>\n",
       "      <td>NaN</td>\n",
       "      <td>NaN</td>\n",
       "      <td>NaN</td>\n",
       "      <td>NaN</td>\n",
       "      <td>NaN</td>\n",
       "      <td>NaN</td>\n",
       "      <td>NaN</td>\n",
       "      <td>NaN</td>\n",
       "      <td>NaN</td>\n",
       "      <td>...</td>\n",
       "      <td>NaN</td>\n",
       "      <td>NaN</td>\n",
       "      <td>NaN</td>\n",
       "      <td>NaN</td>\n",
       "      <td>NaN</td>\n",
       "      <td>NaN</td>\n",
       "      <td>NaN</td>\n",
       "      <td>NaN</td>\n",
       "      <td>NaN</td>\n",
       "      <td>NaN</td>\n",
       "    </tr>\n",
       "    <tr>\n",
       "      <th>3</th>\n",
       "      <td>blcode</td>\n",
       "      <td>NaN</td>\n",
       "      <td>age</td>\n",
       "      <td>NaN</td>\n",
       "      <td>year</td>\n",
       "      <td>(Julian)</td>\n",
       "      <td>time</td>\n",
       "      <td>NaN</td>\n",
       "      <td>prxy_tsa</td>\n",
       "      <td>NaN</td>\n",
       "      <td>...</td>\n",
       "      <td>PCED7</td>\n",
       "      <td>NaN</td>\n",
       "      <td>OUT_MIN_TA</td>\n",
       "      <td>NaN</td>\n",
       "      <td>COINC_RH1</td>\n",
       "      <td>NaN</td>\n",
       "      <td>OUT_AVE_RH</td>\n",
       "      <td>NaN</td>\n",
       "      <td>OUT_MIN_ET</td>\n",
       "      <td>NaN</td>\n",
       "    </tr>\n",
       "    <tr>\n",
       "      <th>4</th>\n",
       "      <td>NaN</td>\n",
       "      <td>sub</td>\n",
       "      <td>NaN</td>\n",
       "      <td>sex</td>\n",
       "      <td>NaN</td>\n",
       "      <td>day number</td>\n",
       "      <td>NaN</td>\n",
       "      <td>ash</td>\n",
       "      <td>NaN</td>\n",
       "      <td>tsa</td>\n",
       "      <td>...</td>\n",
       "      <td>NaN</td>\n",
       "      <td>OUT_MAX_TA</td>\n",
       "      <td>NaN</td>\n",
       "      <td>OUT_AVE_TA</td>\n",
       "      <td>NaN</td>\n",
       "      <td>COINC_RH2</td>\n",
       "      <td>NaN</td>\n",
       "      <td>OUT_MAX_ET</td>\n",
       "      <td>NaN</td>\n",
       "      <td>OUT_AVE_ET</td>\n",
       "    </tr>\n",
       "    <tr>\n",
       "      <th>5</th>\n",
       "      <td>13</td>\n",
       "      <td>1</td>\n",
       "      <td>50</td>\n",
       "      <td>1</td>\n",
       "      <td>1997</td>\n",
       "      <td>335</td>\n",
       "      <td>845</td>\n",
       "      <td>2</td>\n",
       "      <td>1</td>\n",
       "      <td>2</td>\n",
       "      <td>...</td>\n",
       "      <td>.</td>\n",
       "      <td>41.2</td>\n",
       "      <td>22.2</td>\n",
       "      <td>31.7</td>\n",
       "      <td>6.1</td>\n",
       "      <td>50.7</td>\n",
       "      <td>28.4</td>\n",
       "      <td>34.6</td>\n",
       "      <td>22.2</td>\n",
       "      <td>28.4</td>\n",
       "    </tr>\n",
       "  </tbody>\n",
       "</table>\n",
       "<p>6 rows × 80 columns</p>\n",
       "</div>"
      ],
      "text/plain": [
       "  K. Cena and R. J. de Dear. Summer, 1997. ASHRAE's RP-921 study in Kalgoorlie, Australia.  \\\n",
       "0                                  Basic Identifiers                                         \n",
       "1                                                NaN                                         \n",
       "2                                                NaN                                         \n",
       "3                                             blcode                                         \n",
       "4                                                NaN                                         \n",
       "5                                                 13                                         \n",
       "\n",
       "  Unnamed: 1 Unnamed: 2 Unnamed: 3 Unnamed: 4  Unnamed: 5 Unnamed: 6  \\\n",
       "0        NaN        NaN        NaN        NaN         NaN        NaN   \n",
       "1        NaN        NaN        NaN        NaN         NaN        NaN   \n",
       "2        NaN        NaN        NaN        NaN         NaN        NaN   \n",
       "3        NaN        age        NaN       year    (Julian)       time   \n",
       "4        sub        NaN        sex        NaN  day number        NaN   \n",
       "5          1         50          1       1997         335        845   \n",
       "\n",
       "              Unnamed: 7 Unnamed: 8 Unnamed: 9     ...     Unnamed: 70  \\\n",
       "0  Thermal Questionnaire        NaN        NaN     ...             NaN   \n",
       "1                    NaN        NaN        NaN     ...             NaN   \n",
       "2                    NaN        NaN        NaN     ...             NaN   \n",
       "3                    NaN   prxy_tsa        NaN     ...           PCED7   \n",
       "4                    ash        NaN        tsa     ...             NaN   \n",
       "5                      2          1          2     ...               .   \n",
       "\n",
       "                   Unnamed: 71 Unnamed: 72 Unnamed: 73 Unnamed: 74  \\\n",
       "0  Outdoor Meteorological Data         NaN         NaN         NaN   \n",
       "1                          NaN         NaN         NaN         NaN   \n",
       "2                          NaN         NaN         NaN         NaN   \n",
       "3                          NaN  OUT_MIN_TA         NaN   COINC_RH1   \n",
       "4                   OUT_MAX_TA         NaN  OUT_AVE_TA         NaN   \n",
       "5                         41.2        22.2        31.7         6.1   \n",
       "\n",
       "  Unnamed: 75 Unnamed: 76 Unnamed: 77 Unnamed: 78 Unnamed: 79  \n",
       "0         NaN         NaN         NaN         NaN         NaN  \n",
       "1         NaN         NaN         NaN         NaN         NaN  \n",
       "2         NaN         NaN         NaN         NaN         NaN  \n",
       "3         NaN  OUT_AVE_RH         NaN  OUT_MIN_ET         NaN  \n",
       "4   COINC_RH2         NaN  OUT_MAX_ET         NaN  OUT_AVE_ET  \n",
       "5        50.7        28.4        34.6        22.2        28.4  \n",
       "\n",
       "[6 rows x 80 columns]"
      ]
     },
     "execution_count": 8,
     "metadata": {},
     "output_type": "execute_result"
    }
   ],
   "source": [
    "data_sydney48.head(6)"
   ]
  },
  {
   "cell_type": "code",
   "execution_count": 9,
   "metadata": {},
   "outputs": [
    {
     "data": {
      "text/plain": [
       "(645, 80)"
      ]
     },
     "execution_count": 9,
     "metadata": {},
     "output_type": "execute_result"
    }
   ],
   "source": [
    "data_sydney47.shape"
   ]
  },
  {
   "cell_type": "code",
   "execution_count": 10,
   "metadata": {},
   "outputs": [
    {
     "data": {
      "text/plain": [
       "(598, 80)"
      ]
     },
     "execution_count": 10,
     "metadata": {},
     "output_type": "execute_result"
    }
   ],
   "source": [
    "data_sydney48.shape"
   ]
  },
  {
   "cell_type": "code",
   "execution_count": 11,
   "metadata": {},
   "outputs": [],
   "source": [
    "#les titres des colonnes sont les lignes 3 et 4\n",
    "L = list(data_sydney47.loc[3,:])\n",
    "G = list(data_sydney47.loc[4,:])\n",
    "\n",
    "col = []\n",
    "for i in range(len(G)):\n",
    "    if isinstance(G[i],str):\n",
    "        col.append(G[i])\n",
    "    else:\n",
    "        col.append(L[i])"
   ]
  },
  {
   "cell_type": "code",
   "execution_count": 12,
   "metadata": {},
   "outputs": [],
   "source": [
    "data_sydney47.columns = col\n",
    "data_sydney47 = data_sydney47.loc[5:,:]\n",
    "\n",
    "data_sydney48.columns = col\n",
    "data_sydney48 = data_sydney48.loc[5:,:]"
   ]
  },
  {
   "cell_type": "code",
   "execution_count": 13,
   "metadata": {},
   "outputs": [
    {
     "data": {
      "text/html": [
       "<div>\n",
       "<style>\n",
       "    .dataframe thead tr:only-child th {\n",
       "        text-align: right;\n",
       "    }\n",
       "\n",
       "    .dataframe thead th {\n",
       "        text-align: left;\n",
       "    }\n",
       "\n",
       "    .dataframe tbody tr th {\n",
       "        vertical-align: top;\n",
       "    }\n",
       "</style>\n",
       "<table border=\"1\" class=\"dataframe\">\n",
       "  <thead>\n",
       "    <tr style=\"text-align: right;\">\n",
       "      <th></th>\n",
       "      <th>blcode</th>\n",
       "      <th>sub</th>\n",
       "      <th>age</th>\n",
       "      <th>sex</th>\n",
       "      <th>year</th>\n",
       "      <th>day</th>\n",
       "      <th>time</th>\n",
       "      <th>ash</th>\n",
       "      <th>prxy_tsa</th>\n",
       "      <th>tsa</th>\n",
       "      <th>...</th>\n",
       "      <th>PCED7</th>\n",
       "      <th>OUT_MAX_TA</th>\n",
       "      <th>OUT_MIN_TA</th>\n",
       "      <th>OUT_AVE_TA</th>\n",
       "      <th>COINC_RH1</th>\n",
       "      <th>COINC_RH2</th>\n",
       "      <th>OUT_AVE_RH</th>\n",
       "      <th>OUT_MAX_ET</th>\n",
       "      <th>OUT_MIN_ET</th>\n",
       "      <th>OUT_AVE_ET</th>\n",
       "    </tr>\n",
       "  </thead>\n",
       "  <tbody>\n",
       "    <tr>\n",
       "      <th>5</th>\n",
       "      <td>1</td>\n",
       "      <td>1</td>\n",
       "      <td>55</td>\n",
       "      <td>1</td>\n",
       "      <td>1997</td>\n",
       "      <td>135</td>\n",
       "      <td>1101</td>\n",
       "      <td>-1</td>\n",
       "      <td>2</td>\n",
       "      <td>2</td>\n",
       "      <td>...</td>\n",
       "      <td>2</td>\n",
       "      <td>20.3</td>\n",
       "      <td>9.9</td>\n",
       "      <td>15.1</td>\n",
       "      <td>57</td>\n",
       "      <td>97</td>\n",
       "      <td>77</td>\n",
       "      <td>20.4</td>\n",
       "      <td>10.1</td>\n",
       "      <td>15.3</td>\n",
       "    </tr>\n",
       "  </tbody>\n",
       "</table>\n",
       "<p>1 rows × 80 columns</p>\n",
       "</div>"
      ],
      "text/plain": [
       "  blcode sub age sex  year  day  time ash prxy_tsa tsa    ...     PCED7  \\\n",
       "5      1   1  55   1  1997  135  1101  -1        2   2    ...         2   \n",
       "\n",
       "  OUT_MAX_TA OUT_MIN_TA OUT_AVE_TA COINC_RH1 COINC_RH2 OUT_AVE_RH OUT_MAX_ET  \\\n",
       "5       20.3        9.9       15.1        57        97         77       20.4   \n",
       "\n",
       "  OUT_MIN_ET OUT_AVE_ET  \n",
       "5       10.1       15.3  \n",
       "\n",
       "[1 rows x 80 columns]"
      ]
     },
     "execution_count": 13,
     "metadata": {},
     "output_type": "execute_result"
    }
   ],
   "source": [
    "data_sydney47.head(1)"
   ]
  },
  {
   "cell_type": "code",
   "execution_count": 14,
   "metadata": {},
   "outputs": [
    {
     "data": {
      "text/plain": [
       "33"
      ]
     },
     "execution_count": 14,
     "metadata": {},
     "output_type": "execute_result"
    }
   ],
   "source": [
    "# il y a en tout ... NaN\n",
    "sum(data_sydney47.isnull().sum(axis = 0))"
   ]
  },
  {
   "cell_type": "code",
   "execution_count": 15,
   "metadata": {},
   "outputs": [
    {
     "data": {
      "text/html": [
       "<div>\n",
       "<style>\n",
       "    .dataframe thead tr:only-child th {\n",
       "        text-align: right;\n",
       "    }\n",
       "\n",
       "    .dataframe thead th {\n",
       "        text-align: left;\n",
       "    }\n",
       "\n",
       "    .dataframe tbody tr th {\n",
       "        vertical-align: top;\n",
       "    }\n",
       "</style>\n",
       "<table border=\"1\" class=\"dataframe\">\n",
       "  <thead>\n",
       "    <tr style=\"text-align: right;\">\n",
       "      <th></th>\n",
       "      <th>blcode</th>\n",
       "      <th>sub</th>\n",
       "      <th>age</th>\n",
       "      <th>sex</th>\n",
       "      <th>year</th>\n",
       "      <th>day</th>\n",
       "      <th>time</th>\n",
       "      <th>ash</th>\n",
       "      <th>prxy_tsa</th>\n",
       "      <th>tsa</th>\n",
       "      <th>...</th>\n",
       "      <th>PCED7</th>\n",
       "      <th>OUT_MAX_TA</th>\n",
       "      <th>OUT_MIN_TA</th>\n",
       "      <th>OUT_AVE_TA</th>\n",
       "      <th>COINC_RH1</th>\n",
       "      <th>COINC_RH2</th>\n",
       "      <th>OUT_AVE_RH</th>\n",
       "      <th>OUT_MAX_ET</th>\n",
       "      <th>OUT_MIN_ET</th>\n",
       "      <th>OUT_AVE_ET</th>\n",
       "    </tr>\n",
       "  </thead>\n",
       "  <tbody>\n",
       "    <tr>\n",
       "      <th>5</th>\n",
       "      <td>13</td>\n",
       "      <td>1</td>\n",
       "      <td>50</td>\n",
       "      <td>1</td>\n",
       "      <td>1997</td>\n",
       "      <td>335</td>\n",
       "      <td>845</td>\n",
       "      <td>2</td>\n",
       "      <td>1</td>\n",
       "      <td>2</td>\n",
       "      <td>...</td>\n",
       "      <td>.</td>\n",
       "      <td>41.2</td>\n",
       "      <td>22.2</td>\n",
       "      <td>31.7</td>\n",
       "      <td>6.1</td>\n",
       "      <td>50.7</td>\n",
       "      <td>28.4</td>\n",
       "      <td>34.6</td>\n",
       "      <td>22.2</td>\n",
       "      <td>28.4</td>\n",
       "    </tr>\n",
       "  </tbody>\n",
       "</table>\n",
       "<p>1 rows × 80 columns</p>\n",
       "</div>"
      ],
      "text/plain": [
       "  blcode sub age sex  year  day time ash prxy_tsa tsa    ...     PCED7  \\\n",
       "5     13   1  50   1  1997  335  845   2        1   2    ...         .   \n",
       "\n",
       "  OUT_MAX_TA OUT_MIN_TA OUT_AVE_TA COINC_RH1 COINC_RH2 OUT_AVE_RH OUT_MAX_ET  \\\n",
       "5       41.2       22.2       31.7       6.1      50.7       28.4       34.6   \n",
       "\n",
       "  OUT_MIN_ET OUT_AVE_ET  \n",
       "5       22.2       28.4  \n",
       "\n",
       "[1 rows x 80 columns]"
      ]
     },
     "execution_count": 15,
     "metadata": {},
     "output_type": "execute_result"
    }
   ],
   "source": [
    "data_sydney48.head(1)"
   ]
  },
  {
   "cell_type": "code",
   "execution_count": 16,
   "metadata": {},
   "outputs": [
    {
     "data": {
      "text/plain": [
       "2989"
      ]
     },
     "execution_count": 16,
     "metadata": {},
     "output_type": "execute_result"
    }
   ],
   "source": [
    "# il y a en tout ... NaN\n",
    "sum(data_sydney48.isnull().sum(axis = 0))"
   ]
  },
  {
   "cell_type": "code",
   "execution_count": 17,
   "metadata": {},
   "outputs": [],
   "source": [
    "#Certaines colonnes doivent être complètement vides : \n",
    "df = pd.DataFrame(data_sydney48.isnull().sum(axis = 0))\n",
    "df.columns = ['sommedesNaN']"
   ]
  },
  {
   "cell_type": "code",
   "execution_count": 18,
   "metadata": {},
   "outputs": [
    {
     "data": {
      "text/html": [
       "<div>\n",
       "<style>\n",
       "    .dataframe thead tr:only-child th {\n",
       "        text-align: right;\n",
       "    }\n",
       "\n",
       "    .dataframe thead th {\n",
       "        text-align: left;\n",
       "    }\n",
       "\n",
       "    .dataframe tbody tr th {\n",
       "        vertical-align: top;\n",
       "    }\n",
       "</style>\n",
       "<table border=\"1\" class=\"dataframe\">\n",
       "  <thead>\n",
       "    <tr style=\"text-align: right;\">\n",
       "      <th></th>\n",
       "      <th>sommedesNaN</th>\n",
       "    </tr>\n",
       "  </thead>\n",
       "  <tbody>\n",
       "    <tr>\n",
       "      <th>pa</th>\n",
       "      <td>593</td>\n",
       "    </tr>\n",
       "    <tr>\n",
       "      <th>pd_h</th>\n",
       "      <td>593</td>\n",
       "    </tr>\n",
       "    <tr>\n",
       "      <th>pd_m</th>\n",
       "      <td>593</td>\n",
       "    </tr>\n",
       "    <tr>\n",
       "      <th>pd_l</th>\n",
       "      <td>593</td>\n",
       "    </tr>\n",
       "    <tr>\n",
       "      <th>PCC_AG</th>\n",
       "      <td>593</td>\n",
       "    </tr>\n",
       "  </tbody>\n",
       "</table>\n",
       "</div>"
      ],
      "text/plain": [
       "        sommedesNaN\n",
       "pa              593\n",
       "pd_h            593\n",
       "pd_m            593\n",
       "pd_l            593\n",
       "PCC_AG          593"
      ]
     },
     "execution_count": 18,
     "metadata": {},
     "output_type": "execute_result"
    }
   ],
   "source": [
    "ind = df[df.sommedesNaN >500].index\n",
    "df[df.sommedesNaN >500]\n",
    "#nous les retirerons sur le DataFrame fusionné"
   ]
  },
  {
   "cell_type": "markdown",
   "metadata": {},
   "source": [
    "On ajoute une variable 'Season' pour chaque DF: "
   ]
  },
  {
   "cell_type": "code",
   "execution_count": 19,
   "metadata": {},
   "outputs": [],
   "source": [
    "# 0 pour winter, 1 pour summer\n",
    "data_sydney47['Season'] = 0\n",
    "data_sydney48['Season'] = 1"
   ]
  },
  {
   "cell_type": "code",
   "execution_count": 20,
   "metadata": {},
   "outputs": [],
   "source": [
    "data_sydney = pd.concat([data_sydney47,data_sydney48],axis = 0)"
   ]
  },
  {
   "cell_type": "code",
   "execution_count": 21,
   "metadata": {},
   "outputs": [
    {
     "data": {
      "text/html": [
       "<div>\n",
       "<style>\n",
       "    .dataframe thead tr:only-child th {\n",
       "        text-align: right;\n",
       "    }\n",
       "\n",
       "    .dataframe thead th {\n",
       "        text-align: left;\n",
       "    }\n",
       "\n",
       "    .dataframe tbody tr th {\n",
       "        vertical-align: top;\n",
       "    }\n",
       "</style>\n",
       "<table border=\"1\" class=\"dataframe\">\n",
       "  <thead>\n",
       "    <tr style=\"text-align: right;\">\n",
       "      <th></th>\n",
       "      <th>blcode</th>\n",
       "      <th>sub</th>\n",
       "      <th>age</th>\n",
       "      <th>sex</th>\n",
       "      <th>year</th>\n",
       "      <th>day</th>\n",
       "      <th>time</th>\n",
       "      <th>ash</th>\n",
       "      <th>prxy_tsa</th>\n",
       "      <th>tsa</th>\n",
       "      <th>...</th>\n",
       "      <th>OUT_MAX_TA</th>\n",
       "      <th>OUT_MIN_TA</th>\n",
       "      <th>OUT_AVE_TA</th>\n",
       "      <th>COINC_RH1</th>\n",
       "      <th>COINC_RH2</th>\n",
       "      <th>OUT_AVE_RH</th>\n",
       "      <th>OUT_MAX_ET</th>\n",
       "      <th>OUT_MIN_ET</th>\n",
       "      <th>OUT_AVE_ET</th>\n",
       "      <th>Season</th>\n",
       "    </tr>\n",
       "  </thead>\n",
       "  <tbody>\n",
       "    <tr>\n",
       "      <th>5</th>\n",
       "      <td>1</td>\n",
       "      <td>1</td>\n",
       "      <td>55</td>\n",
       "      <td>1</td>\n",
       "      <td>1997</td>\n",
       "      <td>135</td>\n",
       "      <td>1101</td>\n",
       "      <td>-1</td>\n",
       "      <td>2</td>\n",
       "      <td>2</td>\n",
       "      <td>...</td>\n",
       "      <td>20.3</td>\n",
       "      <td>9.9</td>\n",
       "      <td>15.1</td>\n",
       "      <td>57</td>\n",
       "      <td>97</td>\n",
       "      <td>77</td>\n",
       "      <td>20.4</td>\n",
       "      <td>10.1</td>\n",
       "      <td>15.3</td>\n",
       "      <td>0</td>\n",
       "    </tr>\n",
       "  </tbody>\n",
       "</table>\n",
       "<p>1 rows × 81 columns</p>\n",
       "</div>"
      ],
      "text/plain": [
       "  blcode sub age sex  year  day  time ash prxy_tsa tsa  ...   OUT_MAX_TA  \\\n",
       "5      1   1  55   1  1997  135  1101  -1        2   2  ...         20.3   \n",
       "\n",
       "  OUT_MIN_TA OUT_AVE_TA COINC_RH1 COINC_RH2 OUT_AVE_RH OUT_MAX_ET OUT_MIN_ET  \\\n",
       "5        9.9       15.1        57        97         77       20.4       10.1   \n",
       "\n",
       "  OUT_AVE_ET Season  \n",
       "5       15.3      0  \n",
       "\n",
       "[1 rows x 81 columns]"
      ]
     },
     "execution_count": 21,
     "metadata": {},
     "output_type": "execute_result"
    }
   ],
   "source": [
    "data_sydney.head(1)"
   ]
  },
  {
   "cell_type": "markdown",
   "metadata": {},
   "source": [
    "#### Traitement des Nan"
   ]
  },
  {
   "cell_type": "code",
   "execution_count": 22,
   "metadata": {},
   "outputs": [],
   "source": [
    "data_sydney.reset_index(inplace=True)"
   ]
  },
  {
   "cell_type": "code",
   "execution_count": 23,
   "metadata": {},
   "outputs": [],
   "source": [
    "#On retire les colonnes avec plus de 500 NaN \n",
    "df = pd.DataFrame(data_sydney.isnull().sum(axis = 0))\n",
    "df.columns = ['sommedesNaN']\n",
    "df.reset_index(inplace = True)\n",
    "ind = df[df.sommedesNaN > 500].index\n",
    "\n",
    "u = [i for i in range(82)]\n",
    "data_sydney = data_sydney.iloc[:, [x for x in u if x not in ind]]"
   ]
  },
  {
   "cell_type": "markdown",
   "metadata": {},
   "source": [
    "** Nous allons dans un premier temps supprimer les lignes qui contiennent NaN**"
   ]
  },
  {
   "cell_type": "code",
   "execution_count": 24,
   "metadata": {},
   "outputs": [
    {
     "name": "stdout",
     "output_type": "stream",
     "text": [
      "il y a 54 NaN\n"
     ]
    }
   ],
   "source": [
    "print('il y a ' + str(sum(data_sydney.isnull().sum(axis = 0))) + ' NaN')"
   ]
  },
  {
   "cell_type": "code",
   "execution_count": 25,
   "metadata": {},
   "outputs": [],
   "source": [
    "data_sydney = data_sydney.dropna()"
   ]
  },
  {
   "cell_type": "code",
   "execution_count": 26,
   "metadata": {},
   "outputs": [
    {
     "name": "stdout",
     "output_type": "stream",
     "text": [
      "il y a 0 NaN\n"
     ]
    }
   ],
   "source": [
    "print('il y a ' + str(sum(data_sydney.isnull().sum(axis = 0))) + ' NaN')"
   ]
  },
  {
   "cell_type": "code",
   "execution_count": 27,
   "metadata": {},
   "outputs": [
    {
     "data": {
      "text/html": [
       "<div>\n",
       "<style>\n",
       "    .dataframe thead tr:only-child th {\n",
       "        text-align: right;\n",
       "    }\n",
       "\n",
       "    .dataframe thead th {\n",
       "        text-align: left;\n",
       "    }\n",
       "\n",
       "    .dataframe tbody tr th {\n",
       "        vertical-align: top;\n",
       "    }\n",
       "</style>\n",
       "<table border=\"1\" class=\"dataframe\">\n",
       "  <thead>\n",
       "    <tr style=\"text-align: right;\">\n",
       "      <th></th>\n",
       "      <th>blcode</th>\n",
       "      <th>sub</th>\n",
       "      <th>age</th>\n",
       "      <th>sex</th>\n",
       "      <th>year</th>\n",
       "      <th>day</th>\n",
       "      <th>time</th>\n",
       "      <th>ash</th>\n",
       "      <th>prxy_tsa</th>\n",
       "      <th>tsa</th>\n",
       "      <th>...</th>\n",
       "      <th>OUT_MAX_TA</th>\n",
       "      <th>OUT_MIN_TA</th>\n",
       "      <th>OUT_AVE_TA</th>\n",
       "      <th>COINC_RH1</th>\n",
       "      <th>COINC_RH2</th>\n",
       "      <th>OUT_AVE_RH</th>\n",
       "      <th>OUT_MAX_ET</th>\n",
       "      <th>OUT_MIN_ET</th>\n",
       "      <th>OUT_AVE_ET</th>\n",
       "      <th>Season</th>\n",
       "    </tr>\n",
       "  </thead>\n",
       "  <tbody>\n",
       "    <tr>\n",
       "      <th>0</th>\n",
       "      <td>1</td>\n",
       "      <td>1</td>\n",
       "      <td>55</td>\n",
       "      <td>1</td>\n",
       "      <td>1997</td>\n",
       "      <td>135</td>\n",
       "      <td>1101</td>\n",
       "      <td>-1</td>\n",
       "      <td>2</td>\n",
       "      <td>2</td>\n",
       "      <td>...</td>\n",
       "      <td>20.3</td>\n",
       "      <td>9.9</td>\n",
       "      <td>15.1</td>\n",
       "      <td>57</td>\n",
       "      <td>97</td>\n",
       "      <td>77</td>\n",
       "      <td>20.4</td>\n",
       "      <td>10.1</td>\n",
       "      <td>15.3</td>\n",
       "      <td>0</td>\n",
       "    </tr>\n",
       "    <tr>\n",
       "      <th>1</th>\n",
       "      <td>1</td>\n",
       "      <td>2</td>\n",
       "      <td>41</td>\n",
       "      <td>2</td>\n",
       "      <td>1997</td>\n",
       "      <td>135</td>\n",
       "      <td>1105</td>\n",
       "      <td>0.2</td>\n",
       "      <td>2</td>\n",
       "      <td>2</td>\n",
       "      <td>...</td>\n",
       "      <td>20.3</td>\n",
       "      <td>9.9</td>\n",
       "      <td>15.1</td>\n",
       "      <td>57</td>\n",
       "      <td>97</td>\n",
       "      <td>77</td>\n",
       "      <td>20.4</td>\n",
       "      <td>10.1</td>\n",
       "      <td>15.3</td>\n",
       "      <td>0</td>\n",
       "    </tr>\n",
       "    <tr>\n",
       "      <th>2</th>\n",
       "      <td>1</td>\n",
       "      <td>3</td>\n",
       "      <td>57</td>\n",
       "      <td>1</td>\n",
       "      <td>1997</td>\n",
       "      <td>135</td>\n",
       "      <td>1110</td>\n",
       "      <td>-0.5</td>\n",
       "      <td>2</td>\n",
       "      <td>2</td>\n",
       "      <td>...</td>\n",
       "      <td>20.3</td>\n",
       "      <td>9.9</td>\n",
       "      <td>15.1</td>\n",
       "      <td>57</td>\n",
       "      <td>97</td>\n",
       "      <td>77</td>\n",
       "      <td>20.4</td>\n",
       "      <td>10.1</td>\n",
       "      <td>15.3</td>\n",
       "      <td>0</td>\n",
       "    </tr>\n",
       "    <tr>\n",
       "      <th>3</th>\n",
       "      <td>1</td>\n",
       "      <td>4</td>\n",
       "      <td>46</td>\n",
       "      <td>1</td>\n",
       "      <td>1997</td>\n",
       "      <td>135</td>\n",
       "      <td>1126</td>\n",
       "      <td>0.2</td>\n",
       "      <td>2</td>\n",
       "      <td>2</td>\n",
       "      <td>...</td>\n",
       "      <td>20.3</td>\n",
       "      <td>9.9</td>\n",
       "      <td>15.1</td>\n",
       "      <td>57</td>\n",
       "      <td>97</td>\n",
       "      <td>77</td>\n",
       "      <td>20.4</td>\n",
       "      <td>10.1</td>\n",
       "      <td>15.3</td>\n",
       "      <td>0</td>\n",
       "    </tr>\n",
       "    <tr>\n",
       "      <th>4</th>\n",
       "      <td>1</td>\n",
       "      <td>5</td>\n",
       "      <td>46</td>\n",
       "      <td>1</td>\n",
       "      <td>1997</td>\n",
       "      <td>135</td>\n",
       "      <td>1135</td>\n",
       "      <td>1</td>\n",
       "      <td>2</td>\n",
       "      <td>2</td>\n",
       "      <td>...</td>\n",
       "      <td>20.3</td>\n",
       "      <td>9.9</td>\n",
       "      <td>15.1</td>\n",
       "      <td>57</td>\n",
       "      <td>97</td>\n",
       "      <td>77</td>\n",
       "      <td>20.4</td>\n",
       "      <td>10.1</td>\n",
       "      <td>15.3</td>\n",
       "      <td>0</td>\n",
       "    </tr>\n",
       "  </tbody>\n",
       "</table>\n",
       "<p>5 rows × 76 columns</p>\n",
       "</div>"
      ],
      "text/plain": [
       "  blcode sub age sex  year  day  time  ash prxy_tsa tsa  ...   OUT_MAX_TA  \\\n",
       "0      1   1  55   1  1997  135  1101   -1        2   2  ...         20.3   \n",
       "1      1   2  41   2  1997  135  1105  0.2        2   2  ...         20.3   \n",
       "2      1   3  57   1  1997  135  1110 -0.5        2   2  ...         20.3   \n",
       "3      1   4  46   1  1997  135  1126  0.2        2   2  ...         20.3   \n",
       "4      1   5  46   1  1997  135  1135    1        2   2  ...         20.3   \n",
       "\n",
       "  OUT_MIN_TA OUT_AVE_TA COINC_RH1 COINC_RH2 OUT_AVE_RH OUT_MAX_ET OUT_MIN_ET  \\\n",
       "0        9.9       15.1        57        97         77       20.4       10.1   \n",
       "1        9.9       15.1        57        97         77       20.4       10.1   \n",
       "2        9.9       15.1        57        97         77       20.4       10.1   \n",
       "3        9.9       15.1        57        97         77       20.4       10.1   \n",
       "4        9.9       15.1        57        97         77       20.4       10.1   \n",
       "\n",
       "  OUT_AVE_ET Season  \n",
       "0       15.3      0  \n",
       "1       15.3      0  \n",
       "2       15.3      0  \n",
       "3       15.3      0  \n",
       "4       15.3      0  \n",
       "\n",
       "[5 rows x 76 columns]"
      ]
     },
     "execution_count": 27,
     "metadata": {},
     "output_type": "execute_result"
    }
   ],
   "source": [
    "data_sydney.drop(['index'],inplace = True,axis=1)\n",
    "data_sydney.head()"
   ]
  },
  {
   "cell_type": "code",
   "execution_count": 29,
   "metadata": {},
   "outputs": [
    {
     "data": {
      "text/plain": [
       "(1214, 76)"
      ]
     },
     "execution_count": 29,
     "metadata": {},
     "output_type": "execute_result"
    }
   ],
   "source": [
    "data_sydney.shape"
   ]
  },
  {
   "cell_type": "markdown",
   "metadata": {},
   "source": [
    "### I.2) Machine Learning"
   ]
  },
  {
   "cell_type": "markdown",
   "metadata": {},
   "source": [
    "### I.2.1) Cas de l'article ~ Essayons de retrouver les résultats"
   ]
  },
  {
   "cell_type": "code",
   "execution_count": 30,
   "metadata": {},
   "outputs": [
    {
     "data": {
      "text/plain": [
       "Index(['blcode', 'sub', 'age', 'sex', 'year', 'day', 'time', 'ash', 'prxy_tsa',\n",
       "       'tsa', 'mci', 'vent', 'avm', 'comf', 'act10', 'act20', 'act30', 'act60',\n",
       "       'met', 'clo', 'upholst', 'insul', 'ta_h', 'ta_m', 'ta_l', 'dewpt',\n",
       "       'prta_b', 'tg_h', 'tg_m', 'tg_l', 'vel_h', 'vel_m', 'vel_l', 'turb_h',\n",
       "       'turb_m', 'turb_l', 'taav', 'trav', 'top', 'velav', 'velmax', 'tuav',\n",
       "       'rh', 'c_et', 'c_set', 'c_tsens', 'c_disc', 'c_pmv', 'c_ppd', 'pd',\n",
       "       'PCC', 'PCS', 'PCEC1', 'PCEC2', 'PCEC3', 'PCEC4', 'PCEC5', 'PCEC6',\n",
       "       'PCEC7', 'PCED1', 'PCED2', 'PCED3', 'PCED4', 'PCED5', 'PCED6', 'PCED7',\n",
       "       'OUT_MAX_TA', 'OUT_MIN_TA', 'OUT_AVE_TA', 'COINC_RH1', 'COINC_RH2',\n",
       "       'OUT_AVE_RH', 'OUT_MAX_ET', 'OUT_MIN_ET', 'OUT_AVE_ET', 'Season'],\n",
       "      dtype='object')"
      ]
     },
     "execution_count": 30,
     "metadata": {},
     "output_type": "execute_result"
    }
   ],
   "source": [
    "data_sydney.columns"
   ]
  },
  {
   "cell_type": "code",
   "execution_count": 31,
   "metadata": {},
   "outputs": [],
   "source": [
    "# si nous voulons le même cas que dans l'article\n",
    "y = data_sydney['mci']\n",
    "y.replace([1,2,3],[-1,0,1],inplace = True)"
   ]
  },
  {
   "cell_type": "code",
   "execution_count": 32,
   "metadata": {},
   "outputs": [],
   "source": [
    "# on choisit la température taav\n",
    "data_article = data_sydney[['age','clo','met','taav','trav','tuav','OUT_AVE_TA']]"
   ]
  },
  {
   "cell_type": "code",
   "execution_count": 33,
   "metadata": {},
   "outputs": [
    {
     "data": {
      "text/plain": [
       "'.'"
      ]
     },
     "execution_count": 33,
     "metadata": {},
     "output_type": "execute_result"
    }
   ],
   "source": [
    "data_article.loc[1209,'age']"
   ]
  },
  {
   "cell_type": "code",
   "execution_count": 34,
   "metadata": {},
   "outputs": [],
   "source": [
    "#on peut voir qu'il y a des '.'. Quels sont leur index ?\n",
    "ind = []\n",
    "for i in data_article.index:\n",
    "    for column in data_article.columns:\n",
    "        if isinstance(data_article.loc[i,column],str):\n",
    "            ind.append(i)"
   ]
  },
  {
   "cell_type": "code",
   "execution_count": 35,
   "metadata": {},
   "outputs": [
    {
     "name": "stdout",
     "output_type": "stream",
     "text": [
      "[52, 52, 58, 58, 68, 68, 72, 72, 92, 321, 326, 327, 329, 333, 370, 371, 451, 866, 900, 928, 999, 1047, 1096, 1209]\n"
     ]
    }
   ],
   "source": [
    "print(ind)"
   ]
  },
  {
   "cell_type": "code",
   "execution_count": 36,
   "metadata": {},
   "outputs": [],
   "source": [
    "#Nous retirons ces colonnes\n",
    "data_article.drop(ind,axis=0,inplace=True)\n",
    "y.drop(ind,axis=0,inplace=True)"
   ]
  },
  {
   "cell_type": "code",
   "execution_count": 37,
   "metadata": {},
   "outputs": [],
   "source": [
    "#normalisation \n",
    "from sklearn import preprocessing\n",
    "\n",
    "x = data_article.values #returns a numpy array\n",
    "min_max_scaler = preprocessing.MinMaxScaler()\n",
    "x_scaled = min_max_scaler.fit_transform(x)\n",
    "df_article = pd.DataFrame(x_scaled)\n",
    "df_article.columns = data_article.columns"
   ]
  },
  {
   "cell_type": "code",
   "execution_count": 38,
   "metadata": {},
   "outputs": [
    {
     "data": {
      "text/html": [
       "<div>\n",
       "<style>\n",
       "    .dataframe thead tr:only-child th {\n",
       "        text-align: right;\n",
       "    }\n",
       "\n",
       "    .dataframe thead th {\n",
       "        text-align: left;\n",
       "    }\n",
       "\n",
       "    .dataframe tbody tr th {\n",
       "        vertical-align: top;\n",
       "    }\n",
       "</style>\n",
       "<table border=\"1\" class=\"dataframe\">\n",
       "  <thead>\n",
       "    <tr style=\"text-align: right;\">\n",
       "      <th></th>\n",
       "      <th>age</th>\n",
       "      <th>clo</th>\n",
       "      <th>met</th>\n",
       "      <th>taav</th>\n",
       "      <th>trav</th>\n",
       "      <th>tuav</th>\n",
       "      <th>OUT_AVE_TA</th>\n",
       "    </tr>\n",
       "  </thead>\n",
       "  <tbody>\n",
       "    <tr>\n",
       "      <th>0</th>\n",
       "      <td>0.764706</td>\n",
       "      <td>0.18797</td>\n",
       "      <td>0.506445</td>\n",
       "      <td>0.511676</td>\n",
       "      <td>0.420424</td>\n",
       "      <td>0.173561</td>\n",
       "      <td>0.262222</td>\n",
       "    </tr>\n",
       "  </tbody>\n",
       "</table>\n",
       "</div>"
      ],
      "text/plain": [
       "        age      clo       met      taav      trav      tuav  OUT_AVE_TA\n",
       "0  0.764706  0.18797  0.506445  0.511676  0.420424  0.173561    0.262222"
      ]
     },
     "execution_count": 38,
     "metadata": {},
     "output_type": "execute_result"
    }
   ],
   "source": [
    "#nous avons donc des données normalisées\n",
    "df_article.head(1)"
   ]
  },
  {
   "cell_type": "code",
   "execution_count": 39,
   "metadata": {},
   "outputs": [
    {
     "data": {
      "text/plain": [
       "<matplotlib.axes._subplots.AxesSubplot at 0x1a0af15940>"
      ]
     },
     "execution_count": 39,
     "metadata": {},
     "output_type": "execute_result"
    },
    {
     "data": {
      "image/png": "[encoded data removed]",
      "text/plain": [
       "<matplotlib.figure.Figure at 0x1a0b2eec88>"
      ]
     },
     "metadata": {
      "needs_background": "light"
     },
     "output_type": "display_data"
    }
   ],
   "source": [
    "y.hist()"
   ]
  },
  {
   "cell_type": "code",
   "execution_count": 40,
   "metadata": {},
   "outputs": [],
   "source": [
    "y = y.reset_index()\n",
    "y = y['mci']\n",
    "#on voit que le jeu de données est désiquilibré. On va donc sélectionner le même nombre pour chaque label(min)\n",
    "y_1 = y[y == 1]\n",
    "y_0 = y[y == 0]\n",
    "y_m1 = y[y == -1]"
   ]
  },
  {
   "cell_type": "code",
   "execution_count": 41,
   "metadata": {},
   "outputs": [
    {
     "name": "stdout",
     "output_type": "stream",
     "text": [
      "273 754 167\n"
     ]
    }
   ],
   "source": [
    "print(len(y_m1),len(y_0),len(y_1))"
   ]
  },
  {
   "cell_type": "code",
   "execution_count": 42,
   "metadata": {},
   "outputs": [],
   "source": [
    "import random\n",
    "index_choosen_0 = random.sample(list(y_0.index), len(y_1))\n",
    "index_choosen_m1 = random.sample(list(y_m1.index), len(y_1))\n",
    "\n",
    "l = index_choosen_0 + index_choosen_m1 + list(y_1.index)\n",
    "df_article = df_article.loc[l,:]"
   ]
  },
  {
   "cell_type": "code",
   "execution_count": 43,
   "metadata": {},
   "outputs": [],
   "source": [
    "y = y[l]"
   ]
  },
  {
   "cell_type": "code",
   "execution_count": 44,
   "metadata": {},
   "outputs": [
    {
     "data": {
      "text/html": [
       "<div>\n",
       "<style>\n",
       "    .dataframe thead tr:only-child th {\n",
       "        text-align: right;\n",
       "    }\n",
       "\n",
       "    .dataframe thead th {\n",
       "        text-align: left;\n",
       "    }\n",
       "\n",
       "    .dataframe tbody tr th {\n",
       "        vertical-align: top;\n",
       "    }\n",
       "</style>\n",
       "<table border=\"1\" class=\"dataframe\">\n",
       "  <thead>\n",
       "    <tr style=\"text-align: right;\">\n",
       "      <th></th>\n",
       "      <th>age</th>\n",
       "      <th>clo</th>\n",
       "      <th>met</th>\n",
       "      <th>taav</th>\n",
       "      <th>trav</th>\n",
       "      <th>tuav</th>\n",
       "      <th>OUT_AVE_TA</th>\n",
       "    </tr>\n",
       "  </thead>\n",
       "  <tbody>\n",
       "    <tr>\n",
       "      <th>688</th>\n",
       "      <td>0.784314</td>\n",
       "      <td>0.120301</td>\n",
       "      <td>0.34375</td>\n",
       "      <td>0.313645</td>\n",
       "      <td>0.266651</td>\n",
       "      <td>0.224332</td>\n",
       "      <td>0.728889</td>\n",
       "    </tr>\n",
       "  </tbody>\n",
       "</table>\n",
       "</div>"
      ],
      "text/plain": [
       "          age       clo      met      taav      trav      tuav  OUT_AVE_TA\n",
       "688  0.784314  0.120301  0.34375  0.313645  0.266651  0.224332    0.728889"
      ]
     },
     "execution_count": 44,
     "metadata": {},
     "output_type": "execute_result"
    }
   ],
   "source": [
    "df_article.head(1)"
   ]
  },
  {
   "cell_type": "markdown",
   "metadata": {},
   "source": [
    "### prediction"
   ]
  },
  {
   "cell_type": "code",
   "execution_count": 45,
   "metadata": {},
   "outputs": [],
   "source": [
    "#répartition des données en 70% train et 30% test de façon aléatoire\n",
    "X_train_art, X_test_art, y_train_art, y_test_art = train_test_split(df_article,list(y), test_size=0.3, random_state=32)"
   ]
  },
  {
   "cell_type": "code",
   "execution_count": 46,
   "metadata": {},
   "outputs": [
    {
     "name": "stdout",
     "output_type": "stream",
     "text": [
      "Performances de DecisionTreeClassifier\n"
     ]
    },
    {
     "data": {
      "text/html": [
       "<div>\n",
       "<style>\n",
       "    .dataframe thead tr:only-child th {\n",
       "        text-align: right;\n",
       "    }\n",
       "\n",
       "    .dataframe thead th {\n",
       "        text-align: left;\n",
       "    }\n",
       "\n",
       "    .dataframe tbody tr th {\n",
       "        vertical-align: top;\n",
       "    }\n",
       "</style>\n",
       "<table border=\"1\" class=\"dataframe\">\n",
       "  <thead>\n",
       "    <tr style=\"text-align: right;\">\n",
       "      <th></th>\n",
       "      <th>-1</th>\n",
       "      <th>0</th>\n",
       "      <th>1</th>\n",
       "      <th>total(pred)</th>\n",
       "    </tr>\n",
       "  </thead>\n",
       "  <tbody>\n",
       "    <tr>\n",
       "      <th>-1</th>\n",
       "      <td>22.0</td>\n",
       "      <td>12.0</td>\n",
       "      <td>10.0</td>\n",
       "      <td>44.0</td>\n",
       "    </tr>\n",
       "    <tr>\n",
       "      <th>0</th>\n",
       "      <td>13.0</td>\n",
       "      <td>20.0</td>\n",
       "      <td>16.0</td>\n",
       "      <td>49.0</td>\n",
       "    </tr>\n",
       "    <tr>\n",
       "      <th>1</th>\n",
       "      <td>12.0</td>\n",
       "      <td>17.0</td>\n",
       "      <td>29.0</td>\n",
       "      <td>58.0</td>\n",
       "    </tr>\n",
       "    <tr>\n",
       "      <th>total(real)</th>\n",
       "      <td>47.0</td>\n",
       "      <td>49.0</td>\n",
       "      <td>55.0</td>\n",
       "      <td>151.0</td>\n",
       "    </tr>\n",
       "  </tbody>\n",
       "</table>\n",
       "</div>"
      ],
      "text/plain": [
       "               -1     0     1  total(pred)\n",
       "-1           22.0  12.0  10.0         44.0\n",
       "0            13.0  20.0  16.0         49.0\n",
       "1            12.0  17.0  29.0         58.0\n",
       "total(real)  47.0  49.0  55.0        151.0"
      ]
     },
     "execution_count": 46,
     "metadata": {},
     "output_type": "execute_result"
    }
   ],
   "source": [
    "classif = RandomForestClassifier()\n",
    "\n",
    "#Entrainement du classifieur\n",
    "classif.fit(X_train_art, y_train_art)\n",
    "\n",
    "#Prédiction sur X_test\n",
    "y_predicted_art = classif.predict(X_test_art)\n",
    "\n",
    "#Evaluation des performances\n",
    "print('Performances de DecisionTreeClassifier')\n",
    "from sklearn.metrics import confusion_matrix\n",
    "cond_RF = pd.DataFrame(confusion_matrix(y_test_art,y_predicted_art))\n",
    "cond_RF.columns = ['-1','0','1']\n",
    "cond_RF.index = ['-1','0','1']\n",
    "cond_RF['total(pred)'] = cond_RF['-1'] + cond_RF['0'] + cond_RF['1']\n",
    "cond_RF.loc['total(real)',:] = cond_RF.loc['-1',:] + cond_RF.loc['0',:] + cond_RF.loc['1',:]\n",
    "cond_RF"
   ]
  },
  {
   "cell_type": "code",
   "execution_count": 47,
   "metadata": {},
   "outputs": [
    {
     "name": "stdout",
     "output_type": "stream",
     "text": [
      "Performances de DecisionTreeClassifier\n"
     ]
    },
    {
     "data": {
      "text/html": [
       "<div>\n",
       "<style>\n",
       "    .dataframe thead tr:only-child th {\n",
       "        text-align: right;\n",
       "    }\n",
       "\n",
       "    .dataframe thead th {\n",
       "        text-align: left;\n",
       "    }\n",
       "\n",
       "    .dataframe tbody tr th {\n",
       "        vertical-align: top;\n",
       "    }\n",
       "</style>\n",
       "<table border=\"1\" class=\"dataframe\">\n",
       "  <thead>\n",
       "    <tr style=\"text-align: right;\">\n",
       "      <th></th>\n",
       "      <th>-1</th>\n",
       "      <th>0</th>\n",
       "      <th>1</th>\n",
       "      <th>total(pred)</th>\n",
       "    </tr>\n",
       "  </thead>\n",
       "  <tbody>\n",
       "    <tr>\n",
       "      <th>-1</th>\n",
       "      <td>21.0</td>\n",
       "      <td>11.0</td>\n",
       "      <td>12.0</td>\n",
       "      <td>44.0</td>\n",
       "    </tr>\n",
       "    <tr>\n",
       "      <th>0</th>\n",
       "      <td>15.0</td>\n",
       "      <td>16.0</td>\n",
       "      <td>18.0</td>\n",
       "      <td>49.0</td>\n",
       "    </tr>\n",
       "    <tr>\n",
       "      <th>1</th>\n",
       "      <td>8.0</td>\n",
       "      <td>14.0</td>\n",
       "      <td>36.0</td>\n",
       "      <td>58.0</td>\n",
       "    </tr>\n",
       "    <tr>\n",
       "      <th>total(real)</th>\n",
       "      <td>44.0</td>\n",
       "      <td>41.0</td>\n",
       "      <td>66.0</td>\n",
       "      <td>151.0</td>\n",
       "    </tr>\n",
       "  </tbody>\n",
       "</table>\n",
       "</div>"
      ],
      "text/plain": [
       "               -1     0     1  total(pred)\n",
       "-1           21.0  11.0  12.0         44.0\n",
       "0            15.0  16.0  18.0         49.0\n",
       "1             8.0  14.0  36.0         58.0\n",
       "total(real)  44.0  41.0  66.0        151.0"
      ]
     },
     "execution_count": 47,
     "metadata": {},
     "output_type": "execute_result"
    }
   ],
   "source": [
    "classif = SVC()\n",
    "\n",
    "#Entrainement du classifieur\n",
    "classif.fit(X_train_art, y_train_art)\n",
    "\n",
    "#Prédiction sur X_test\n",
    "y_predicted_art = classif.predict(X_test_art)\n",
    "\n",
    "#Evaluation des performances\n",
    "print('Performances de DecisionTreeClassifier')\n",
    "from sklearn.metrics import confusion_matrix\n",
    "cond_svm = pd.DataFrame(confusion_matrix(y_test_art,y_predicted_art))\n",
    "cond_svm.columns = ['-1','0','1']\n",
    "cond_svm.index = ['-1','0','1']\n",
    "cond_svm['total(pred)'] = cond_svm['-1'] + cond_svm['0'] + cond_svm['1']\n",
    "cond_svm.loc['total(real)',:] = cond_svm.loc['-1',:] + cond_svm.loc['0',:] + cond_svm.loc['1',:]\n",
    "cond_svm"
   ]
  },
  {
   "cell_type": "code",
   "execution_count": 48,
   "metadata": {},
   "outputs": [],
   "source": [
    "def macro_average_modified_test(cond):\n",
    "    c = len(cond) - 1\n",
    "    pipii = []\n",
    "    for i in range(c):\n",
    "        pi = cond.iloc[i,i]/cond.iloc[i,c]\n",
    "        pii = cond.iloc[i,i]/cond.iloc[c,i]\n",
    "        pipii.append(pi*pii)\n",
    "    \n",
    "    prod = 1\n",
    "    prod = [prod*i for i in pipii][0]\n",
    "    result = 0.75*sum(pipii) + 0.25*c*((prod)**(1/c))\n",
    "    return(result)"
   ]
  },
  {
   "cell_type": "code",
   "execution_count": 49,
   "metadata": {},
   "outputs": [
    {
     "data": {
      "text/plain": [
       "0.9604031506392283"
      ]
     },
     "execution_count": 49,
     "metadata": {},
     "output_type": "execute_result"
    }
   ],
   "source": [
    "macro_average_modified_test(cond_RF)"
   ]
  },
  {
   "cell_type": "code",
   "execution_count": 50,
   "metadata": {},
   "outputs": [
    {
     "data": {
      "text/plain": [
       "0.9783727663947834"
      ]
     },
     "execution_count": 50,
     "metadata": {},
     "output_type": "execute_result"
    }
   ],
   "source": [
    "macro_average_modified_test(cond_svm)"
   ]
  },
  {
   "cell_type": "markdown",
   "metadata": {},
   "source": [
    "On retrouve que SVM outperform légèrement RF"
   ]
  },
  {
   "cell_type": "markdown",
   "metadata": {},
   "source": [
    "### I.2.2) Améliorations possibles"
   ]
  },
  {
   "cell_type": "markdown",
   "metadata": {},
   "source": [
    "#### 1.2.2.a) Paramètres du classifieur"
   ]
  },
  {
   "cell_type": "code",
   "execution_count": 51,
   "metadata": {},
   "outputs": [
    {
     "data": {
      "text/plain": [
       "GridSearchCV(cv=5, error_score='raise',\n",
       "       estimator=SVC(C=1.0, cache_size=200, class_weight=None, coef0=0.0,\n",
       "  decision_function_shape='ovr', degree=3, gamma='auto', kernel='rbf',\n",
       "  max_iter=-1, probability=False, random_state=None, shrinking=True,\n",
       "  tol=0.001, verbose=False),\n",
       "       fit_params=None, iid=True, n_jobs=1,\n",
       "       param_grid={'kernel': ('linear', 'rbf'), 'C': [1, 10]},\n",
       "       pre_dispatch='2*n_jobs', refit=True, return_train_score=True,\n",
       "       scoring=None, verbose=0)"
      ]
     },
     "execution_count": 51,
     "metadata": {},
     "output_type": "execute_result"
    }
   ],
   "source": [
    "from sklearn.model_selection import GridSearchCV\n",
    "from sklearn import svm, datasets\n",
    "parameters = {'kernel':('linear', 'rbf'), 'C':[1, 10]}\n",
    "svc = svm.SVC()\n",
    "clf = GridSearchCV(svc, parameters, cv=5)\n",
    "clf.fit(X_train_art, y_train_art)\n"
   ]
  },
  {
   "cell_type": "code",
   "execution_count": 53,
   "metadata": {},
   "outputs": [
    {
     "data": {
      "text/plain": [
       "{'C': 1, 'kernel': 'linear'}"
      ]
     },
     "execution_count": 53,
     "metadata": {},
     "output_type": "execute_result"
    }
   ],
   "source": [
    "clf.best_params_"
   ]
  },
  {
   "cell_type": "code",
   "execution_count": 54,
   "metadata": {},
   "outputs": [
    {
     "data": {
      "text/plain": [
       "0.5171428571428571"
      ]
     },
     "execution_count": 54,
     "metadata": {},
     "output_type": "execute_result"
    }
   ],
   "source": [
    "clf.best_score_"
   ]
  },
  {
   "cell_type": "code",
   "execution_count": 55,
   "metadata": {},
   "outputs": [
    {
     "name": "stdout",
     "output_type": "stream",
     "text": [
      "Performances de SVM\n"
     ]
    },
    {
     "data": {
      "text/html": [
       "<div>\n",
       "<style>\n",
       "    .dataframe thead tr:only-child th {\n",
       "        text-align: right;\n",
       "    }\n",
       "\n",
       "    .dataframe thead th {\n",
       "        text-align: left;\n",
       "    }\n",
       "\n",
       "    .dataframe tbody tr th {\n",
       "        vertical-align: top;\n",
       "    }\n",
       "</style>\n",
       "<table border=\"1\" class=\"dataframe\">\n",
       "  <thead>\n",
       "    <tr style=\"text-align: right;\">\n",
       "      <th></th>\n",
       "      <th>-1</th>\n",
       "      <th>0</th>\n",
       "      <th>1</th>\n",
       "      <th>total(pred)</th>\n",
       "    </tr>\n",
       "  </thead>\n",
       "  <tbody>\n",
       "    <tr>\n",
       "      <th>-1</th>\n",
       "      <td>23.0</td>\n",
       "      <td>9.0</td>\n",
       "      <td>12.0</td>\n",
       "      <td>44.0</td>\n",
       "    </tr>\n",
       "    <tr>\n",
       "      <th>0</th>\n",
       "      <td>17.0</td>\n",
       "      <td>13.0</td>\n",
       "      <td>19.0</td>\n",
       "      <td>49.0</td>\n",
       "    </tr>\n",
       "    <tr>\n",
       "      <th>1</th>\n",
       "      <td>9.0</td>\n",
       "      <td>13.0</td>\n",
       "      <td>36.0</td>\n",
       "      <td>58.0</td>\n",
       "    </tr>\n",
       "    <tr>\n",
       "      <th>total(real)</th>\n",
       "      <td>49.0</td>\n",
       "      <td>35.0</td>\n",
       "      <td>67.0</td>\n",
       "      <td>151.0</td>\n",
       "    </tr>\n",
       "  </tbody>\n",
       "</table>\n",
       "</div>"
      ],
      "text/plain": [
       "               -1     0     1  total(pred)\n",
       "-1           23.0   9.0  12.0         44.0\n",
       "0            17.0  13.0  19.0         49.0\n",
       "1             9.0  13.0  36.0         58.0\n",
       "total(real)  49.0  35.0  67.0        151.0"
      ]
     },
     "execution_count": 55,
     "metadata": {},
     "output_type": "execute_result"
    }
   ],
   "source": [
    "best_clf = svm.SVC(C=1,kernel='linear')\n",
    "best_clf.fit(X_train_art, y_train_art)\n",
    "#Prédiction sur X_test\n",
    "y_predicted_art = best_clf.predict(X_test_art)\n",
    "\n",
    "#Evaluation des performances\n",
    "print('Performances de SVM')\n",
    "cond_svm = pd.DataFrame(confusion_matrix(y_test_art,y_predicted_art))\n",
    "cond_svm.columns = ['-1','0','1']\n",
    "cond_svm.index = ['-1','0','1']\n",
    "cond_svm['total(pred)'] = cond_svm['-1'] + cond_svm['0'] + cond_svm['1']\n",
    "cond_svm.loc['total(real)',:] = cond_svm.loc['-1',:] + cond_svm.loc['0',:] + cond_svm.loc['1',:]\n",
    "cond_svm"
   ]
  },
  {
   "cell_type": "code",
   "execution_count": 56,
   "metadata": {},
   "outputs": [
    {
     "data": {
      "text/plain": [
       "0.9775869488039577"
      ]
     },
     "execution_count": 56,
     "metadata": {},
     "output_type": "execute_result"
    }
   ],
   "source": [
    "macro_average_modified_test(cond_svm)"
   ]
  },
  {
   "cell_type": "markdown",
   "metadata": {},
   "source": [
    "#### 1.2.2.b) Comparaison sans sélection de variables"
   ]
  },
  {
   "cell_type": "code",
   "execution_count": 57,
   "metadata": {},
   "outputs": [],
   "source": [
    "#on peut voir qu'il y a des '.'. Quels sont leur index ?\n",
    "indi = []\n",
    "data_s = data_sydney.drop(['turb_m'],axis=1)\n",
    "for i in data_s.index:\n",
    "    for column in data_s.columns:\n",
    "        if isinstance(data_s.loc[i,column],str):\n",
    "            indi.append(i)\n",
    "indi = set(indi)\n",
    "indi = list(indi)"
   ]
  },
  {
   "cell_type": "code",
   "execution_count": 58,
   "metadata": {},
   "outputs": [],
   "source": [
    "data_s = data_sydney.drop(indi,axis=0)"
   ]
  },
  {
   "cell_type": "code",
   "execution_count": 59,
   "metadata": {},
   "outputs": [],
   "source": [
    "y_a = data_s['mci']\n",
    "X_a = data_s[['blcode', 'sub', 'age', 'sex', 'year', 'day', 'time', 'ash', 'prxy_tsa',\n",
    "       'tsa', 'vent', 'avm', 'comf', 'act10', 'act20', 'act30', 'act60',\n",
    "       'met', 'clo', 'upholst', 'insul', 'ta_h', 'ta_m', 'ta_l', 'dewpt',\n",
    "       'prta_b', 'tg_h', 'tg_m', 'tg_l', 'vel_h', 'vel_m', 'vel_l', 'turb_h', 'turb_l', 'taav', 'trav', 'top', 'velav', 'velmax', 'tuav',\n",
    "       'rh', 'c_et', 'c_set', 'c_tsens', 'c_disc', 'c_pmv', 'c_ppd', 'pd',\n",
    "       'PCC', 'PCS', 'PCEC1', 'PCEC2', 'PCEC3', 'PCEC4', 'PCEC5', 'PCEC6',\n",
    "       'PCEC7', 'PCED1', 'PCED2', 'PCED3', 'PCED4', 'PCED5', 'PCED6', 'PCED7',\n",
    "       'OUT_MAX_TA', 'OUT_MIN_TA', 'OUT_AVE_TA', 'COINC_RH1', 'COINC_RH2',\n",
    "       'OUT_AVE_RH', 'OUT_MAX_ET', 'OUT_MIN_ET', 'OUT_AVE_ET', 'Season']]\n",
    "X_train_ar, X_test_ar, y_train_ar, y_test_ar = train_test_split(X_a,y_a, test_size=0.3, random_state=32)"
   ]
  },
  {
   "cell_type": "code",
   "execution_count": 61,
   "metadata": {},
   "outputs": [
    {
     "name": "stdout",
     "output_type": "stream",
     "text": [
      "Performances de Random Forest\n"
     ]
    },
    {
     "data": {
      "text/html": [
       "<div>\n",
       "<style>\n",
       "    .dataframe thead tr:only-child th {\n",
       "        text-align: right;\n",
       "    }\n",
       "\n",
       "    .dataframe thead th {\n",
       "        text-align: left;\n",
       "    }\n",
       "\n",
       "    .dataframe tbody tr th {\n",
       "        vertical-align: top;\n",
       "    }\n",
       "</style>\n",
       "<table border=\"1\" class=\"dataframe\">\n",
       "  <thead>\n",
       "    <tr style=\"text-align: right;\">\n",
       "      <th></th>\n",
       "      <th>-1</th>\n",
       "      <th>0</th>\n",
       "      <th>1</th>\n",
       "      <th>total(pred)</th>\n",
       "    </tr>\n",
       "  </thead>\n",
       "  <tbody>\n",
       "    <tr>\n",
       "      <th>-1</th>\n",
       "      <td>23.0</td>\n",
       "      <td>11.0</td>\n",
       "      <td>10.0</td>\n",
       "      <td>44.0</td>\n",
       "    </tr>\n",
       "    <tr>\n",
       "      <th>0</th>\n",
       "      <td>14.0</td>\n",
       "      <td>22.0</td>\n",
       "      <td>13.0</td>\n",
       "      <td>49.0</td>\n",
       "    </tr>\n",
       "    <tr>\n",
       "      <th>1</th>\n",
       "      <td>12.0</td>\n",
       "      <td>20.0</td>\n",
       "      <td>26.0</td>\n",
       "      <td>58.0</td>\n",
       "    </tr>\n",
       "    <tr>\n",
       "      <th>total(real)</th>\n",
       "      <td>49.0</td>\n",
       "      <td>53.0</td>\n",
       "      <td>49.0</td>\n",
       "      <td>151.0</td>\n",
       "    </tr>\n",
       "  </tbody>\n",
       "</table>\n",
       "</div>"
      ],
      "text/plain": [
       "               -1     0     1  total(pred)\n",
       "-1           23.0  11.0  10.0         44.0\n",
       "0            14.0  22.0  13.0         49.0\n",
       "1            12.0  20.0  26.0         58.0\n",
       "total(real)  49.0  53.0  49.0        151.0"
      ]
     },
     "execution_count": 61,
     "metadata": {},
     "output_type": "execute_result"
    }
   ],
   "source": [
    "classif = RandomForestClassifier()\n",
    "\n",
    "#Entrainement du classifieur\n",
    "classif.fit(X_train_art, y_train_art)\n",
    "\n",
    "#Prédiction sur X_test\n",
    "y_predicted_art = classif.predict(X_test_art)\n",
    "\n",
    "#Evaluation des performances\n",
    "print('Performances de Random Forest')\n",
    "from sklearn.metrics import confusion_matrix\n",
    "cond_RF = pd.DataFrame(confusion_matrix(y_test_art,y_predicted_art))\n",
    "cond_RF.columns = ['-1','0','1']\n",
    "cond_RF.index = ['-1','0','1']\n",
    "cond_RF['total(pred)'] = cond_RF['-1'] + cond_RF['0'] + cond_RF['1']\n",
    "cond_RF.loc['total(real)',:] = cond_RF.loc['-1',:] + cond_RF.loc['0',:] + cond_RF.loc['1',:]\n",
    "cond_RF"
   ]
  },
  {
   "cell_type": "code",
   "execution_count": 62,
   "metadata": {},
   "outputs": [
    {
     "data": {
      "text/plain": [
       "0.971723737767441"
      ]
     },
     "execution_count": 62,
     "metadata": {},
     "output_type": "execute_result"
    }
   ],
   "source": [
    "macro_average_modified_test(cond_RF)"
   ]
  },
  {
   "cell_type": "code",
   "execution_count": 63,
   "metadata": {},
   "outputs": [
    {
     "name": "stdout",
     "output_type": "stream",
     "text": [
      "Performances de SVM\n"
     ]
    },
    {
     "data": {
      "text/html": [
       "<div>\n",
       "<style>\n",
       "    .dataframe thead tr:only-child th {\n",
       "        text-align: right;\n",
       "    }\n",
       "\n",
       "    .dataframe thead th {\n",
       "        text-align: left;\n",
       "    }\n",
       "\n",
       "    .dataframe tbody tr th {\n",
       "        vertical-align: top;\n",
       "    }\n",
       "</style>\n",
       "<table border=\"1\" class=\"dataframe\">\n",
       "  <thead>\n",
       "    <tr style=\"text-align: right;\">\n",
       "      <th></th>\n",
       "      <th>-1</th>\n",
       "      <th>0</th>\n",
       "      <th>1</th>\n",
       "      <th>total(pred)</th>\n",
       "    </tr>\n",
       "  </thead>\n",
       "  <tbody>\n",
       "    <tr>\n",
       "      <th>-1</th>\n",
       "      <td>21.0</td>\n",
       "      <td>11.0</td>\n",
       "      <td>12.0</td>\n",
       "      <td>44.0</td>\n",
       "    </tr>\n",
       "    <tr>\n",
       "      <th>0</th>\n",
       "      <td>15.0</td>\n",
       "      <td>16.0</td>\n",
       "      <td>18.0</td>\n",
       "      <td>49.0</td>\n",
       "    </tr>\n",
       "    <tr>\n",
       "      <th>1</th>\n",
       "      <td>8.0</td>\n",
       "      <td>14.0</td>\n",
       "      <td>36.0</td>\n",
       "      <td>58.0</td>\n",
       "    </tr>\n",
       "    <tr>\n",
       "      <th>total(real)</th>\n",
       "      <td>44.0</td>\n",
       "      <td>41.0</td>\n",
       "      <td>66.0</td>\n",
       "      <td>151.0</td>\n",
       "    </tr>\n",
       "  </tbody>\n",
       "</table>\n",
       "</div>"
      ],
      "text/plain": [
       "               -1     0     1  total(pred)\n",
       "-1           21.0  11.0  12.0         44.0\n",
       "0            15.0  16.0  18.0         49.0\n",
       "1             8.0  14.0  36.0         58.0\n",
       "total(real)  44.0  41.0  66.0        151.0"
      ]
     },
     "execution_count": 63,
     "metadata": {},
     "output_type": "execute_result"
    }
   ],
   "source": [
    "classif = SVC()\n",
    "\n",
    "#Entrainement du classifieur\n",
    "classif.fit(X_train_art, y_train_art)\n",
    "\n",
    "#Prédiction sur X_test\n",
    "y_predicted_art = classif.predict(X_test_art)\n",
    "\n",
    "#Evaluation des performances\n",
    "print('Performances de SVM')\n",
    "from sklearn.metrics import confusion_matrix\n",
    "cond_svm = pd.DataFrame(confusion_matrix(y_test_art,y_predicted_art))\n",
    "cond_svm.columns = ['-1','0','1']\n",
    "cond_svm.index = ['-1','0','1']\n",
    "cond_svm['total(pred)'] = cond_svm['-1'] + cond_svm['0'] + cond_svm['1']\n",
    "cond_svm.loc['total(real)',:] = cond_svm.loc['-1',:] + cond_svm.loc['0',:] + cond_svm.loc['1',:]\n",
    "cond_svm"
   ]
  },
  {
   "cell_type": "code",
   "execution_count": 64,
   "metadata": {},
   "outputs": [
    {
     "data": {
      "text/plain": [
       "0.9783727663947834"
      ]
     },
     "execution_count": 64,
     "metadata": {},
     "output_type": "execute_result"
    }
   ],
   "source": [
    "macro_average_modified_test(cond_svm)"
   ]
  },
  {
   "cell_type": "markdown",
   "metadata": {},
   "source": [
    "Le choix des variables est plutôt judicieux dans l'article. Ceux sont les variables les plus significatives."
   ]
  },
  {
   "cell_type": "code",
   "execution_count": null,
   "metadata": {},
   "outputs": [],
   "source": []
  }
 ],
 "metadata": {
  "kernelspec": {
   "display_name": "Python 3",
   "language": "python",
   "name": "python3"
  },
  "language_info": {
   "codemirror_mode": {
    "name": "ipython",
    "version": 3
   },
   "file_extension": ".py",
   "mimetype": "text/x-python",
   "name": "python",
   "nbconvert_exporter": "python",
   "pygments_lexer": "ipython3",
   "version": "3.6.2"
  }
 },
 "nbformat": 4,
 "nbformat_minor": 2
}
