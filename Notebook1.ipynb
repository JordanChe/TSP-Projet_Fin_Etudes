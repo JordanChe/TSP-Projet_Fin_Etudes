{
 "cells": [
  {
   "cell_type": "markdown",
   "metadata": {},
   "source": [
    "### <font color=darkred> [MSA : Modélisation, Apprentissage et Applications] </font>\n",
    "### <font color = darkblue> <div style=\"text-align: center\"> Projet de fin d'études\n",
    "## <font color = darkgreen> <div style=\"text-align: center\"> Apprentissage Statistique appliqué à la qualité de vie au travail\n",
    "### <font color = darkgreen> <div style=\"text-align: center\"> [Smart Building & OZE Energies]\n",
    "#### <font color = darkblue> <div style=\"text-align: right\"> Binôme : Jordan CHEMOUHOUM, Alaeddine ZEKRI"
   ]
  },
  {
   "cell_type": "markdown",
   "metadata": {},
   "source": [
    "### Contexte"
   ]
  },
  {
   "cell_type": "markdown",
   "metadata": {},
   "source": [
    "- La sensation thermique humaine dans un environnement peut être retardée, ce qui peut entraîner des affections mettant la vie en danger, telles que l'hypothermie et l'hyperthermie.\n",
    "- Celà diffère d'une personne à une autre et peut s'avérer dangereux pour les individus âgés, car le vieillissement modifie la perception thermique.\n",
    "- Nous envisageons un système d'aide à la décision qui prédit le confort thermique humain en temps réel en utilisant diverses conditions environnementales ainsi que des caractéristiques psychologiques et physiologiques"
   ]
  },
  {
   "cell_type": "markdown",
   "metadata": {},
   "source": [
    "### Travail attendu"
   ]
  },
  {
   "cell_type": "markdown",
   "metadata": {},
   "source": [
    "- Nous allons developper un modèle de confort thermique précis en suivant une approche basée sur l'apprentissage automatique pour apprendre ce modèle\n",
    "- Après l'analyse de données à notre disposition, nous suggérons, grace à notre modèle, les actions correspondantes, qui peuvent améliorer de manière significative le confort thermique général et la santé des personnes, en particulier des personnes âgées."
   ]
  },
  {
   "cell_type": "markdown",
   "metadata": {},
   "source": [
    "- **Divers paramètres qui influencent le confort thermique** : \n",
    "    - Humidité\n",
    "    - Taux de CO2\n",
    "    - Température externe\n",
    "    - L'age des personnes\n",
    "    - Type de vêtements portés"
   ]
  },
  {
   "cell_type": "code",
   "execution_count": 1,
   "metadata": {
    "collapsed": true
   },
   "outputs": [],
   "source": [
    "#Format des données\n",
    "import pandas as pd\n",
    "import numpy as np\n",
    "\n",
    "#Outils de graphs\n",
    "import matplotlib.pyplot as plt\n",
    "import seaborn as sns\n",
    "%matplotlib inline\n",
    "\n",
    "#ACP\n",
    "from sklearn.preprocessing import StandardScaler\n",
    "\n",
    "#Label Encoder\n",
    "from sklearn import preprocessing\n",
    "\n",
    "#Machine Learning tools\n",
    "from sklearn.model_selection import KFold\n",
    "from sklearn.model_selection import StratifiedKFold\n",
    "from sklearn.model_selection import cross_val_score\n",
    "from sklearn.model_selection import train_test_split\n",
    "from sklearn.metrics import classification_report\n",
    "\n",
    "#Machine Learning Models\n",
    "from sklearn.svm import SVC\n",
    "from sklearn.naive_bayes import GaussianNB\n",
    "from sklearn.linear_model import Perceptron\n",
    "from sklearn.linear_model import SGDClassifier\n",
    "from sklearn.tree import DecisionTreeClassifier\n",
    "from sklearn.ensemble import AdaBoostClassifier\n",
    "from sklearn.neighbors import KNeighborsClassifier\n",
    "from sklearn.linear_model import LogisticRegression\n",
    "from sklearn.ensemble import RandomForestClassifier\n",
    "from sklearn.ensemble import GradientBoostingClassifier\n",
    "from sklearn.discriminant_analysis import LinearDiscriminantAnalysis"
   ]
  },
  {
   "cell_type": "markdown",
   "metadata": {},
   "source": [
    "### <font color=darkred> Importation et exploration des données </font>"
   ]
  },
  {
   "cell_type": "code",
   "execution_count": 2,
   "metadata": {
    "collapsed": true
   },
   "outputs": [],
   "source": [
    "date = pd.read_csv('Data/confort_sync_data_date.csv')\n",
    "humidite = pd.read_csv('Data/confort_sync_data_humidite.csv')\n",
    "humiditex = pd.read_csv('Data/confort_sync_data_humiditex.csv')\n",
    "tauxCO2 = pd.read_csv('Data/confort_sync_data_tauxCO2.csv')\n",
    "temperature = pd.read_csv('Data/confort_sync_data_temperature.csv')\n",
    "score_confort = pd.read_csv('Data/score_comfort.csv')"
   ]
  },
  {
   "cell_type": "code",
   "execution_count": 3,
   "metadata": {
    "collapsed": true
   },
   "outputs": [],
   "source": [
    "score_confort = score_confort.rename(columns={score_confort.columns[0]:'score'})"
   ]
  },
  {
   "cell_type": "markdown",
   "metadata": {},
   "source": [
    "**Vérification de la cohérence des tailles**"
   ]
  },
  {
   "cell_type": "code",
   "execution_count": 4,
   "metadata": {},
   "outputs": [
    {
     "name": "stdout",
     "output_type": "stream",
     "text": [
      "size de Date = (1048575, 1)\n",
      "size de humidite = (1048575, 1)\n",
      "size de humidite_x = (1048575, 1)\n",
      "size de tauxCO2 = (1048575, 1)\n",
      "size de Température = (1048575, 1)\n",
      "size de score = (1048575, 1)\n"
     ]
    }
   ],
   "source": [
    "data = [date, humidite, humiditex, tauxCO2, temperature, score_confort]\n",
    "for d in data :\n",
    "    print('size de '+ d.columns[0]+ ' = '+ str(d.shape))"
   ]
  },
  {
   "cell_type": "code",
   "execution_count": 5,
   "metadata": {
    "collapsed": true
   },
   "outputs": [],
   "source": [
    "training_data = pd.concat(data, axis=1)"
   ]
  },
  {
   "cell_type": "code",
   "execution_count": 6,
   "metadata": {},
   "outputs": [
    {
     "data": {
      "text/html": [
       "<div>\n",
       "<style>\n",
       "    .dataframe thead tr:only-child th {\n",
       "        text-align: right;\n",
       "    }\n",
       "\n",
       "    .dataframe thead th {\n",
       "        text-align: left;\n",
       "    }\n",
       "\n",
       "    .dataframe tbody tr th {\n",
       "        vertical-align: top;\n",
       "    }\n",
       "</style>\n",
       "<table border=\"1\" class=\"dataframe\">\n",
       "  <thead>\n",
       "    <tr style=\"text-align: right;\">\n",
       "      <th></th>\n",
       "      <th>Date</th>\n",
       "      <th>humidite</th>\n",
       "      <th>humidite_x</th>\n",
       "      <th>tauxCO2</th>\n",
       "      <th>Température</th>\n",
       "      <th>score</th>\n",
       "    </tr>\n",
       "  </thead>\n",
       "  <tbody>\n",
       "    <tr>\n",
       "      <th>0</th>\n",
       "      <td>31/08/2017 23:00</td>\n",
       "      <td>NaN</td>\n",
       "      <td>25.7</td>\n",
       "      <td>NaN</td>\n",
       "      <td>22.7</td>\n",
       "      <td>4.0</td>\n",
       "    </tr>\n",
       "    <tr>\n",
       "      <th>1</th>\n",
       "      <td>31/08/2017 23:30</td>\n",
       "      <td>56.0</td>\n",
       "      <td>25.7</td>\n",
       "      <td>534.0</td>\n",
       "      <td>22.7</td>\n",
       "      <td>4.0</td>\n",
       "    </tr>\n",
       "    <tr>\n",
       "      <th>2</th>\n",
       "      <td>31/08/2017 23:50</td>\n",
       "      <td>55.0</td>\n",
       "      <td>25.6</td>\n",
       "      <td>544.0</td>\n",
       "      <td>22.7</td>\n",
       "      <td>4.0</td>\n",
       "    </tr>\n",
       "    <tr>\n",
       "      <th>3</th>\n",
       "      <td>01/09/2017 00:00</td>\n",
       "      <td>NaN</td>\n",
       "      <td>25.7</td>\n",
       "      <td>NaN</td>\n",
       "      <td>22.8</td>\n",
       "      <td>5.0</td>\n",
       "    </tr>\n",
       "    <tr>\n",
       "      <th>4</th>\n",
       "      <td>01/09/2017 00:30</td>\n",
       "      <td>55.0</td>\n",
       "      <td>25.7</td>\n",
       "      <td>506.0</td>\n",
       "      <td>22.8</td>\n",
       "      <td>4.0</td>\n",
       "    </tr>\n",
       "  </tbody>\n",
       "</table>\n",
       "</div>"
      ],
      "text/plain": [
       "               Date  humidite  humidite_x  tauxCO2  Température  score\n",
       "0  31/08/2017 23:00       NaN        25.7      NaN         22.7    4.0\n",
       "1  31/08/2017 23:30      56.0        25.7    534.0         22.7    4.0\n",
       "2  31/08/2017 23:50      55.0        25.6    544.0         22.7    4.0\n",
       "3  01/09/2017 00:00       NaN        25.7      NaN         22.8    5.0\n",
       "4  01/09/2017 00:30      55.0        25.7    506.0         22.8    4.0"
      ]
     },
     "execution_count": 6,
     "metadata": {},
     "output_type": "execute_result"
    }
   ],
   "source": [
    "training_data.head()"
   ]
  },
  {
   "cell_type": "markdown",
   "metadata": {},
   "source": [
    "**Informations sur les données : Type et nombre des valeures NULL**"
   ]
  },
  {
   "cell_type": "code",
   "execution_count": 7,
   "metadata": {},
   "outputs": [
    {
     "name": "stdout",
     "output_type": "stream",
     "text": [
      "<class 'pandas.core.frame.DataFrame'>\n",
      "RangeIndex: 1048575 entries, 0 to 1048574\n",
      "Data columns (total 6 columns):\n",
      "Date           1048575 non-null object\n",
      "humidite       1048410 non-null float64\n",
      "humidite_x     1048575 non-null float64\n",
      "tauxCO2        1048291 non-null float64\n",
      "Température    1048568 non-null float64\n",
      "score          1006261 non-null float64\n",
      "dtypes: float64(5), object(1)\n",
      "memory usage: 48.0+ MB\n",
      "None\n"
     ]
    }
   ],
   "source": [
    "#Informations sur les données\n",
    "print(training_data.info())"
   ]
  },
  {
   "cell_type": "code",
   "execution_count": 8,
   "metadata": {},
   "outputs": [
    {
     "data": {
      "text/plain": [
       "Date               0\n",
       "humidite         165\n",
       "humidite_x         0\n",
       "tauxCO2          284\n",
       "Température        7\n",
       "score          42314\n",
       "dtype: int64"
      ]
     },
     "execution_count": 8,
     "metadata": {},
     "output_type": "execute_result"
    }
   ],
   "source": [
    "#Nombre de NaN pour chaque colonne\n",
    "training_data.isnull().sum(axis = 0)"
   ]
  },
  {
   "cell_type": "markdown",
   "metadata": {},
   "source": [
    "** Nous allons dans un premier temps supprimer les lignes qui contiennent NaN**"
   ]
  },
  {
   "cell_type": "code",
   "execution_count": 9,
   "metadata": {
    "collapsed": true
   },
   "outputs": [],
   "source": [
    "training_data = training_data.dropna()"
   ]
  },
  {
   "cell_type": "code",
   "execution_count": 10,
   "metadata": {},
   "outputs": [
    {
     "name": "stdout",
     "output_type": "stream",
     "text": [
      "<class 'pandas.core.frame.DataFrame'>\n",
      "Int64Index: 1005983 entries, 1 to 1048574\n",
      "Data columns (total 6 columns):\n",
      "Date           1005983 non-null object\n",
      "humidite       1005983 non-null float64\n",
      "humidite_x     1005983 non-null float64\n",
      "tauxCO2        1005983 non-null float64\n",
      "Température    1005983 non-null float64\n",
      "score          1005983 non-null float64\n",
      "dtypes: float64(5), object(1)\n",
      "memory usage: 53.7+ MB\n",
      "None\n"
     ]
    }
   ],
   "source": [
    "print(training_data.info())"
   ]
  },
  {
   "cell_type": "markdown",
   "metadata": {},
   "source": [
    "** Nous avons à notre disposition un fichier à 1005983 de lignes**"
   ]
  },
  {
   "cell_type": "code",
   "execution_count": 11,
   "metadata": {},
   "outputs": [
    {
     "data": {
      "text/html": [
       "<div>\n",
       "<style>\n",
       "    .dataframe thead tr:only-child th {\n",
       "        text-align: right;\n",
       "    }\n",
       "\n",
       "    .dataframe thead th {\n",
       "        text-align: left;\n",
       "    }\n",
       "\n",
       "    .dataframe tbody tr th {\n",
       "        vertical-align: top;\n",
       "    }\n",
       "</style>\n",
       "<table border=\"1\" class=\"dataframe\">\n",
       "  <thead>\n",
       "    <tr style=\"text-align: right;\">\n",
       "      <th></th>\n",
       "      <th>Date</th>\n",
       "      <th>humidite</th>\n",
       "      <th>humidite_x</th>\n",
       "      <th>tauxCO2</th>\n",
       "      <th>Température</th>\n",
       "      <th>score</th>\n",
       "    </tr>\n",
       "  </thead>\n",
       "  <tbody>\n",
       "    <tr>\n",
       "      <th>1</th>\n",
       "      <td>31/08/2017 23:30</td>\n",
       "      <td>56.0</td>\n",
       "      <td>25.7</td>\n",
       "      <td>534.0</td>\n",
       "      <td>22.7</td>\n",
       "      <td>4.0</td>\n",
       "    </tr>\n",
       "    <tr>\n",
       "      <th>2</th>\n",
       "      <td>31/08/2017 23:50</td>\n",
       "      <td>55.0</td>\n",
       "      <td>25.6</td>\n",
       "      <td>544.0</td>\n",
       "      <td>22.7</td>\n",
       "      <td>4.0</td>\n",
       "    </tr>\n",
       "    <tr>\n",
       "      <th>4</th>\n",
       "      <td>01/09/2017 00:30</td>\n",
       "      <td>55.0</td>\n",
       "      <td>25.7</td>\n",
       "      <td>506.0</td>\n",
       "      <td>22.8</td>\n",
       "      <td>4.0</td>\n",
       "    </tr>\n",
       "    <tr>\n",
       "      <th>5</th>\n",
       "      <td>01/09/2017 00:50</td>\n",
       "      <td>55.0</td>\n",
       "      <td>25.7</td>\n",
       "      <td>499.0</td>\n",
       "      <td>22.8</td>\n",
       "      <td>4.0</td>\n",
       "    </tr>\n",
       "    <tr>\n",
       "      <th>7</th>\n",
       "      <td>01/09/2017 01:30</td>\n",
       "      <td>55.0</td>\n",
       "      <td>25.9</td>\n",
       "      <td>577.0</td>\n",
       "      <td>22.9</td>\n",
       "      <td>4.0</td>\n",
       "    </tr>\n",
       "  </tbody>\n",
       "</table>\n",
       "</div>"
      ],
      "text/plain": [
       "               Date  humidite  humidite_x  tauxCO2  Température  score\n",
       "1  31/08/2017 23:30      56.0        25.7    534.0         22.7    4.0\n",
       "2  31/08/2017 23:50      55.0        25.6    544.0         22.7    4.0\n",
       "4  01/09/2017 00:30      55.0        25.7    506.0         22.8    4.0\n",
       "5  01/09/2017 00:50      55.0        25.7    499.0         22.8    4.0\n",
       "7  01/09/2017 01:30      55.0        25.9    577.0         22.9    4.0"
      ]
     },
     "execution_count": 11,
     "metadata": {},
     "output_type": "execute_result"
    }
   ],
   "source": [
    "training_data.head()"
   ]
  },
  {
   "cell_type": "markdown",
   "metadata": {},
   "source": [
    "** Valeurs unique pour chaque paramètre**"
   ]
  },
  {
   "cell_type": "code",
   "execution_count": 12,
   "metadata": {},
   "outputs": [
    {
     "name": "stdout",
     "output_type": "stream",
     "text": [
      "valeurs uniques de Date = 58194\n",
      "valeurs uniques de humidite = 82\n",
      "valeurs uniques de humidite_x = 337\n",
      "valeurs uniques de tauxCO2 = 2372\n",
      "valeurs uniques de Température = 258\n",
      "valeurs uniques de score = 5\n"
     ]
    }
   ],
   "source": [
    "for d in data :\n",
    "    print('valeurs uniques de '+ d.columns[0]+ ' = '+ str(len(training_data.groupby(d.columns[0])[d.columns[0]].nunique())))"
   ]
  },
  {
   "cell_type": "markdown",
   "metadata": {},
   "source": [
    "### <font color=darkgreen> Colonne score (les labels) :\n",
    "- Y a t-il des scores plus redondants que d'autres ? Voyons la distribution des données d'entrainement suivant les scores"
   ]
  },
  {
   "cell_type": "code",
   "execution_count": 13,
   "metadata": {},
   "outputs": [
    {
     "data": {
      "image/png": "[encoded data removed]",
      "text/plain": [
       "<matplotlib.figure.Figure at 0x10d72ccc0>"
      ]
     },
     "metadata": {},
     "output_type": "display_data"
    }
   ],
   "source": [
    "plt.figure(figsize=(9,7))\n",
    "sns.countplot(x=\"score\", data=training_data)\n",
    "plt.ylabel('Fréquence')\n",
    "plt.xlabel('Valeure du score')\n",
    "plt.title(\"Distribution des données suivant les scores\")\n",
    "plt.show()"
   ]
  },
  {
   "cell_type": "markdown",
   "metadata": {},
   "source": [
    "### <font color=darkgreen> Colonne Humidité :"
   ]
  },
  {
   "cell_type": "code",
   "execution_count": 14,
   "metadata": {},
   "outputs": [
    {
     "name": "stdout",
     "output_type": "stream",
     "text": [
      "count    1.005983e+06\n",
      "mean     3.953577e+01\n",
      "std      1.064147e+01\n",
      "min      0.000000e+00\n",
      "25%      3.200000e+01\n",
      "50%      3.900000e+01\n",
      "75%      4.700000e+01\n",
      "max      8.800000e+01\n",
      "Name: humidite, dtype: float64\n"
     ]
    }
   ],
   "source": [
    "#description de la colonne Humidité\n",
    "print(training_data['humidite'].describe(include='all'))"
   ]
  },
  {
   "cell_type": "markdown",
   "metadata": {},
   "source": [
    "** Humidité les plus présentes **"
   ]
  },
  {
   "cell_type": "code",
   "execution_count": 15,
   "metadata": {},
   "outputs": [
    {
     "data": {
      "text/plain": [
       "35.0    38938\n",
       "34.0    38782\n",
       "36.0    38213\n",
       "33.0    36061\n",
       "37.0    36053\n",
       "Name: humidite, dtype: int64"
      ]
     },
     "execution_count": 15,
     "metadata": {},
     "output_type": "execute_result"
    }
   ],
   "source": [
    "#comptage des valeurs de Humidité\n",
    "training_data['humidite'].value_counts().head()"
   ]
  },
  {
   "cell_type": "markdown",
   "metadata": {},
   "source": [
    "### <font color=darkgreen> Colonne Humidité_X :"
   ]
  },
  {
   "cell_type": "code",
   "execution_count": 16,
   "metadata": {},
   "outputs": [
    {
     "name": "stdout",
     "output_type": "stream",
     "text": [
      "count    1.005983e+06\n",
      "mean     2.463028e+01\n",
      "std      3.985999e+00\n",
      "min     -5.600000e+00\n",
      "25%      2.210000e+01\n",
      "50%      2.470000e+01\n",
      "75%      2.740000e+01\n",
      "max      4.220000e+01\n",
      "Name: humidite_x, dtype: float64\n"
     ]
    }
   ],
   "source": [
    "#description de la colonne Humidité\n",
    "print(training_data['humidite_x'].describe(include='all'))"
   ]
  },
  {
   "cell_type": "markdown",
   "metadata": {},
   "source": [
    "** Humidité_X les plus présentes **"
   ]
  },
  {
   "cell_type": "code",
   "execution_count": 17,
   "metadata": {},
   "outputs": [
    {
     "data": {
      "text/plain": [
       "24.2    11356\n",
       "24.5    11282\n",
       "23.2    11273\n",
       "23.5    11137\n",
       "23.6    11059\n",
       "Name: humidite_x, dtype: int64"
      ]
     },
     "execution_count": 17,
     "metadata": {},
     "output_type": "execute_result"
    }
   ],
   "source": [
    "#comptage des valeurs de Humidité_X\n",
    "training_data['humidite_x'].value_counts().head()"
   ]
  },
  {
   "cell_type": "markdown",
   "metadata": {},
   "source": [
    "### <font color=darkgreen> Colonne TauxCO2 :"
   ]
  },
  {
   "cell_type": "code",
   "execution_count": 18,
   "metadata": {},
   "outputs": [
    {
     "name": "stdout",
     "output_type": "stream",
     "text": [
      "count    1.005983e+06\n",
      "mean     6.413718e+02\n",
      "std      2.251945e+02\n",
      "min      2.520000e+02\n",
      "25%      4.910000e+02\n",
      "50%      5.950000e+02\n",
      "75%      7.440000e+02\n",
      "max      4.964000e+03\n",
      "Name: tauxCO2, dtype: float64\n"
     ]
    }
   ],
   "source": [
    "#description de la colonne TauxCO2\n",
    "print(training_data['tauxCO2'].describe(include='all'))"
   ]
  },
  {
   "cell_type": "markdown",
   "metadata": {},
   "source": [
    "** TauxCO2 les plus présentes **"
   ]
  },
  {
   "cell_type": "code",
   "execution_count": 19,
   "metadata": {},
   "outputs": [
    {
     "data": {
      "text/plain": [
       "511.0    3415\n",
       "506.0    3360\n",
       "508.0    3340\n",
       "510.0    3319\n",
       "505.0    3295\n",
       "Name: tauxCO2, dtype: int64"
      ]
     },
     "execution_count": 19,
     "metadata": {},
     "output_type": "execute_result"
    }
   ],
   "source": [
    "#comptage des valeurs de TauxCO2\n",
    "training_data['tauxCO2'].value_counts().head()"
   ]
  },
  {
   "cell_type": "markdown",
   "metadata": {},
   "source": [
    "### <font color=darkgreen> Colonne Température :"
   ]
  },
  {
   "cell_type": "code",
   "execution_count": 20,
   "metadata": {},
   "outputs": [
    {
     "name": "stdout",
     "output_type": "stream",
     "text": [
      "count    1.005983e+06\n",
      "mean     2.370056e+01\n",
      "std      2.750136e+00\n",
      "min      0.000000e+00\n",
      "25%      2.230000e+01\n",
      "50%      2.380000e+01\n",
      "75%      2.520000e+01\n",
      "max      3.740000e+01\n",
      "Name: Température, dtype: float64\n"
     ]
    }
   ],
   "source": [
    "#description de la colonne Température\n",
    "print(training_data['Température'].describe(include='all'))"
   ]
  },
  {
   "cell_type": "code",
   "execution_count": 21,
   "metadata": {},
   "outputs": [
    {
     "data": {
      "text/plain": [
       "24.5    20037\n",
       "24.7    19789\n",
       "24.6    19379\n",
       "24.8    19073\n",
       "24.4    18818\n",
       "Name: Température, dtype: int64"
      ]
     },
     "execution_count": 21,
     "metadata": {},
     "output_type": "execute_result"
    }
   ],
   "source": [
    "#comptage des valeurs de Température\n",
    "training_data['Température'].value_counts().head()"
   ]
  },
  {
   "cell_type": "markdown",
   "metadata": {},
   "source": [
    "### <font color=darkgreen> Colonne Date :"
   ]
  },
  {
   "cell_type": "markdown",
   "metadata": {},
   "source": [
    "### 1ère approche :\n",
    "- La variable Date est importante pour notre modèle vu que la température et l'humidité dépend de la saison, du mois, du jour et même de l'heure\n",
    "- Dans un premier temps, nous allons créer 4 nouvelles variables : \n",
    "    - Année : [2017, 2018]\n",
    "    - Mois : [Hiver : 12-01-02, Printemps : 03-04-05, Ete : 06-07-08, Automne : 09-10-11]\n",
    "    - Jour : [1, 31]\n",
    "    - Heure : [matin : 5h-12h, aprem : 13h-20h, soir : 21h-04h]\n",
    "- Nous allons dans un second temps faire du OneHotEncoding sur ces variables pour ne pas introduire une notion d'ordre (Pour ne pas donner plus d'importance aux plus grande valeurs. Exemple : mois 12 > mois 1)"
   ]
  },
  {
   "cell_type": "code",
   "execution_count": 22,
   "metadata": {},
   "outputs": [
    {
     "data": {
      "text/plain": [
       "'31/08/2017 23:30'"
      ]
     },
     "execution_count": 22,
     "metadata": {},
     "output_type": "execute_result"
    }
   ],
   "source": [
    "training_data['Date'].iloc[0]"
   ]
  },
  {
   "cell_type": "code",
   "execution_count": 24,
   "metadata": {},
   "outputs": [
    {
     "data": {
      "text/plain": [
       "1005983"
      ]
     },
     "execution_count": 24,
     "metadata": {},
     "output_type": "execute_result"
    }
   ],
   "source": [
    "len(training_data['Date'])"
   ]
  },
  {
   "cell_type": "code",
   "execution_count": 25,
   "metadata": {
    "collapsed": true
   },
   "outputs": [],
   "source": [
    "training_data['Année'] = [0 for i in range(len(training_data['Date']))]\n",
    "training_data['Mois'] = [0 for i in range(len(training_data['Date']))]\n",
    "training_data['Jour'] = [0 for i in range(len(training_data['Date']))]\n",
    "training_data['Heure'] = [0 for i in range(len(training_data['Date']))]"
   ]
  },
  {
   "cell_type": "code",
   "execution_count": 27,
   "metadata": {},
   "outputs": [
    {
     "name": "stderr",
     "output_type": "stream",
     "text": [
      "/anaconda3/lib/python3.6/site-packages/pandas/core/indexing.py:179: SettingWithCopyWarning: \n",
      "A value is trying to be set on a copy of a slice from a DataFrame\n",
      "\n",
      "See the caveats in the documentation: http://pandas.pydata.org/pandas-docs/stable/indexing.html#indexing-view-versus-copy\n",
      "  self._setitem_with_indexer(indexer, value)\n"
     ]
    },
    {
     "name": "stdout",
     "output_type": "stream",
     "text": [
      "Temps d'execution = 16.524633\n"
     ]
    }
   ],
   "source": [
    "import time \n",
    "tmps1=time.time()\n",
    "\n",
    "for i in range(100):\n",
    "    training_data['Jour'].iloc[i] = int(training_data['Date'].iloc[i][0:2])\n",
    "    \n",
    "    if training_data['Date'].iloc[i][6:10] == '2017':\n",
    "        training_data['Année'].iloc[i] = 2017\n",
    "    else:\n",
    "        training_data['Année'].iloc[i] = 2018\n",
    "    \n",
    "    if int(training_data['Date'].iloc[0][3:5]) in [1,2] or int(training_data['Date'].iloc[0][3:5]) == 12:\n",
    "        training_data['Mois'].iloc[i] = 'hiver'\n",
    "    elif int(training_data['Date'].iloc[0][3:5]) in [3,5]:\n",
    "        training_data['Mois'].iloc[i] = 'printemps'\n",
    "    elif int(training_data['Date'].iloc[0][3:5]) in [6,8]:\n",
    "        training_data['Mois'].iloc[i] = 'ete'\n",
    "    else:\n",
    "        training_data['Mois'].iloc[i] = 'automne'\n",
    "        \n",
    "    if int(training_data['Date'].iloc[0][11:13]) in [5,12]:\n",
    "        training_data['Heure'].iloc[i] = 'matin'\n",
    "    elif int(training_data['Date'].iloc[0][11:13]) in [13,20]:\n",
    "        training_data['Heure'].iloc[i] = 'aprem'\n",
    "    else:\n",
    "        training_data['Heure'].iloc[i] = 'soir'\n",
    "\n",
    "tmps2=time.time()-tmps1\n",
    "print(\"Temps d'execution = %f\" %tmps2)"
   ]
  },
  {
   "cell_type": "code",
   "execution_count": 35,
   "metadata": {},
   "outputs": [
    {
     "name": "stdout",
     "output_type": "stream",
     "text": [
      "Pour la totalité de données, cette approche va prendre : 46.17638835994535 jours\n"
     ]
    }
   ],
   "source": [
    "print (\"Pour la totalité de données, cette approche va prendre : \"+ str(tmps2*len(training_data['Date'])/(3600*100))+' jours')"
   ]
  },
  {
   "cell_type": "markdown",
   "metadata": {},
   "source": [
    "### Approche 2\n",
    "- Utilisation de pd.Timestamp"
   ]
  },
  {
   "cell_type": "code",
   "execution_count": 14,
   "metadata": {
    "collapsed": true
   },
   "outputs": [],
   "source": [
    "date2 = training_data['Date']"
   ]
  },
  {
   "cell_type": "code",
   "execution_count": 15,
   "metadata": {
    "collapsed": true
   },
   "outputs": [],
   "source": [
    "date2 = date2.reset_index(drop=True)"
   ]
  },
  {
   "cell_type": "code",
   "execution_count": 16,
   "metadata": {
    "collapsed": true
   },
   "outputs": [],
   "source": [
    "for i in range(len(date2)):\n",
    "    date2[i] = pd.Timestamp(date2[i])"
   ]
  },
  {
   "cell_type": "code",
   "execution_count": 17,
   "metadata": {
    "collapsed": true
   },
   "outputs": [],
   "source": [
    "dates = pd.DataFrame({\"year\": date2.dt.year,\n",
    "              \"month\": date2.dt.month,\n",
    "              \"day\": date2.dt.day,\n",
    "              \"hour\": date2.dt.hour,\n",
    "              \"dayofyear\": date2.dt.dayofyear,\n",
    "              \"week\": date2.dt.week,\n",
    "              \"weekofyear\": date2.dt.weekofyear,\n",
    "              \"dayofweek\": date2.dt.dayofweek,\n",
    "              \"weekday\": date2.dt.weekday,\n",
    "              \"quarter\": date2.dt.quarter,\n",
    "             })"
   ]
  },
  {
   "cell_type": "code",
   "execution_count": 18,
   "metadata": {},
   "outputs": [
    {
     "data": {
      "text/html": [
       "<div>\n",
       "<style>\n",
       "    .dataframe thead tr:only-child th {\n",
       "        text-align: right;\n",
       "    }\n",
       "\n",
       "    .dataframe thead th {\n",
       "        text-align: left;\n",
       "    }\n",
       "\n",
       "    .dataframe tbody tr th {\n",
       "        vertical-align: top;\n",
       "    }\n",
       "</style>\n",
       "<table border=\"1\" class=\"dataframe\">\n",
       "  <thead>\n",
       "    <tr style=\"text-align: right;\">\n",
       "      <th></th>\n",
       "      <th>day</th>\n",
       "      <th>dayofweek</th>\n",
       "      <th>dayofyear</th>\n",
       "      <th>hour</th>\n",
       "      <th>month</th>\n",
       "      <th>quarter</th>\n",
       "      <th>week</th>\n",
       "      <th>weekday</th>\n",
       "      <th>weekofyear</th>\n",
       "      <th>year</th>\n",
       "    </tr>\n",
       "  </thead>\n",
       "  <tbody>\n",
       "    <tr>\n",
       "      <th>0</th>\n",
       "      <td>31</td>\n",
       "      <td>3</td>\n",
       "      <td>243</td>\n",
       "      <td>23</td>\n",
       "      <td>8</td>\n",
       "      <td>3</td>\n",
       "      <td>35</td>\n",
       "      <td>3</td>\n",
       "      <td>35</td>\n",
       "      <td>2017</td>\n",
       "    </tr>\n",
       "    <tr>\n",
       "      <th>1</th>\n",
       "      <td>31</td>\n",
       "      <td>3</td>\n",
       "      <td>243</td>\n",
       "      <td>23</td>\n",
       "      <td>8</td>\n",
       "      <td>3</td>\n",
       "      <td>35</td>\n",
       "      <td>3</td>\n",
       "      <td>35</td>\n",
       "      <td>2017</td>\n",
       "    </tr>\n",
       "    <tr>\n",
       "      <th>2</th>\n",
       "      <td>9</td>\n",
       "      <td>0</td>\n",
       "      <td>9</td>\n",
       "      <td>0</td>\n",
       "      <td>1</td>\n",
       "      <td>1</td>\n",
       "      <td>2</td>\n",
       "      <td>0</td>\n",
       "      <td>2</td>\n",
       "      <td>2017</td>\n",
       "    </tr>\n",
       "    <tr>\n",
       "      <th>3</th>\n",
       "      <td>9</td>\n",
       "      <td>0</td>\n",
       "      <td>9</td>\n",
       "      <td>0</td>\n",
       "      <td>1</td>\n",
       "      <td>1</td>\n",
       "      <td>2</td>\n",
       "      <td>0</td>\n",
       "      <td>2</td>\n",
       "      <td>2017</td>\n",
       "    </tr>\n",
       "    <tr>\n",
       "      <th>4</th>\n",
       "      <td>9</td>\n",
       "      <td>0</td>\n",
       "      <td>9</td>\n",
       "      <td>1</td>\n",
       "      <td>1</td>\n",
       "      <td>1</td>\n",
       "      <td>2</td>\n",
       "      <td>0</td>\n",
       "      <td>2</td>\n",
       "      <td>2017</td>\n",
       "    </tr>\n",
       "  </tbody>\n",
       "</table>\n",
       "</div>"
      ],
      "text/plain": [
       "   day  dayofweek  dayofyear  hour  month  quarter  week  weekday  weekofyear  \\\n",
       "0   31          3        243    23      8        3    35        3          35   \n",
       "1   31          3        243    23      8        3    35        3          35   \n",
       "2    9          0          9     0      1        1     2        0           2   \n",
       "3    9          0          9     0      1        1     2        0           2   \n",
       "4    9          0          9     1      1        1     2        0           2   \n",
       "\n",
       "   year  \n",
       "0  2017  \n",
       "1  2017  \n",
       "2  2017  \n",
       "3  2017  \n",
       "4  2017  "
      ]
     },
     "execution_count": 18,
     "metadata": {},
     "output_type": "execute_result"
    }
   ],
   "source": [
    "dates.head()"
   ]
  },
  {
   "cell_type": "code",
   "execution_count": 19,
   "metadata": {
    "collapsed": true
   },
   "outputs": [],
   "source": [
    "training_data = training_data.reset_index(drop=True)"
   ]
  },
  {
   "cell_type": "code",
   "execution_count": 20,
   "metadata": {
    "collapsed": true
   },
   "outputs": [],
   "source": [
    "training_data = pd.concat([training_data,dates], axis=1)"
   ]
  },
  {
   "cell_type": "code",
   "execution_count": 21,
   "metadata": {},
   "outputs": [
    {
     "data": {
      "text/html": [
       "<div>\n",
       "<style>\n",
       "    .dataframe thead tr:only-child th {\n",
       "        text-align: right;\n",
       "    }\n",
       "\n",
       "    .dataframe thead th {\n",
       "        text-align: left;\n",
       "    }\n",
       "\n",
       "    .dataframe tbody tr th {\n",
       "        vertical-align: top;\n",
       "    }\n",
       "</style>\n",
       "<table border=\"1\" class=\"dataframe\">\n",
       "  <thead>\n",
       "    <tr style=\"text-align: right;\">\n",
       "      <th></th>\n",
       "      <th>Date</th>\n",
       "      <th>humidite</th>\n",
       "      <th>humidite_x</th>\n",
       "      <th>tauxCO2</th>\n",
       "      <th>Température</th>\n",
       "      <th>score</th>\n",
       "      <th>day</th>\n",
       "      <th>dayofweek</th>\n",
       "      <th>dayofyear</th>\n",
       "      <th>hour</th>\n",
       "      <th>month</th>\n",
       "      <th>quarter</th>\n",
       "      <th>week</th>\n",
       "      <th>weekday</th>\n",
       "      <th>weekofyear</th>\n",
       "      <th>year</th>\n",
       "    </tr>\n",
       "  </thead>\n",
       "  <tbody>\n",
       "    <tr>\n",
       "      <th>0</th>\n",
       "      <td>31/08/2017 23:30</td>\n",
       "      <td>56.0</td>\n",
       "      <td>25.7</td>\n",
       "      <td>534.0</td>\n",
       "      <td>22.7</td>\n",
       "      <td>4.0</td>\n",
       "      <td>31</td>\n",
       "      <td>3</td>\n",
       "      <td>243</td>\n",
       "      <td>23</td>\n",
       "      <td>8</td>\n",
       "      <td>3</td>\n",
       "      <td>35</td>\n",
       "      <td>3</td>\n",
       "      <td>35</td>\n",
       "      <td>2017</td>\n",
       "    </tr>\n",
       "    <tr>\n",
       "      <th>1</th>\n",
       "      <td>31/08/2017 23:50</td>\n",
       "      <td>55.0</td>\n",
       "      <td>25.6</td>\n",
       "      <td>544.0</td>\n",
       "      <td>22.7</td>\n",
       "      <td>4.0</td>\n",
       "      <td>31</td>\n",
       "      <td>3</td>\n",
       "      <td>243</td>\n",
       "      <td>23</td>\n",
       "      <td>8</td>\n",
       "      <td>3</td>\n",
       "      <td>35</td>\n",
       "      <td>3</td>\n",
       "      <td>35</td>\n",
       "      <td>2017</td>\n",
       "    </tr>\n",
       "    <tr>\n",
       "      <th>2</th>\n",
       "      <td>01/09/2017 00:30</td>\n",
       "      <td>55.0</td>\n",
       "      <td>25.7</td>\n",
       "      <td>506.0</td>\n",
       "      <td>22.8</td>\n",
       "      <td>4.0</td>\n",
       "      <td>9</td>\n",
       "      <td>0</td>\n",
       "      <td>9</td>\n",
       "      <td>0</td>\n",
       "      <td>1</td>\n",
       "      <td>1</td>\n",
       "      <td>2</td>\n",
       "      <td>0</td>\n",
       "      <td>2</td>\n",
       "      <td>2017</td>\n",
       "    </tr>\n",
       "    <tr>\n",
       "      <th>3</th>\n",
       "      <td>01/09/2017 00:50</td>\n",
       "      <td>55.0</td>\n",
       "      <td>25.7</td>\n",
       "      <td>499.0</td>\n",
       "      <td>22.8</td>\n",
       "      <td>4.0</td>\n",
       "      <td>9</td>\n",
       "      <td>0</td>\n",
       "      <td>9</td>\n",
       "      <td>0</td>\n",
       "      <td>1</td>\n",
       "      <td>1</td>\n",
       "      <td>2</td>\n",
       "      <td>0</td>\n",
       "      <td>2</td>\n",
       "      <td>2017</td>\n",
       "    </tr>\n",
       "    <tr>\n",
       "      <th>4</th>\n",
       "      <td>01/09/2017 01:30</td>\n",
       "      <td>55.0</td>\n",
       "      <td>25.9</td>\n",
       "      <td>577.0</td>\n",
       "      <td>22.9</td>\n",
       "      <td>4.0</td>\n",
       "      <td>9</td>\n",
       "      <td>0</td>\n",
       "      <td>9</td>\n",
       "      <td>1</td>\n",
       "      <td>1</td>\n",
       "      <td>1</td>\n",
       "      <td>2</td>\n",
       "      <td>0</td>\n",
       "      <td>2</td>\n",
       "      <td>2017</td>\n",
       "    </tr>\n",
       "  </tbody>\n",
       "</table>\n",
       "</div>"
      ],
      "text/plain": [
       "               Date  humidite  humidite_x  tauxCO2  Température  score  day  \\\n",
       "0  31/08/2017 23:30      56.0        25.7    534.0         22.7    4.0   31   \n",
       "1  31/08/2017 23:50      55.0        25.6    544.0         22.7    4.0   31   \n",
       "2  01/09/2017 00:30      55.0        25.7    506.0         22.8    4.0    9   \n",
       "3  01/09/2017 00:50      55.0        25.7    499.0         22.8    4.0    9   \n",
       "4  01/09/2017 01:30      55.0        25.9    577.0         22.9    4.0    9   \n",
       "\n",
       "   dayofweek  dayofyear  hour  month  quarter  week  weekday  weekofyear  year  \n",
       "0          3        243    23      8        3    35        3          35  2017  \n",
       "1          3        243    23      8        3    35        3          35  2017  \n",
       "2          0          9     0      1        1     2        0           2  2017  \n",
       "3          0          9     0      1        1     2        0           2  2017  \n",
       "4          0          9     1      1        1     2        0           2  2017  "
      ]
     },
     "execution_count": 21,
     "metadata": {},
     "output_type": "execute_result"
    }
   ],
   "source": [
    "training_data.head()"
   ]
  },
  {
   "cell_type": "markdown",
   "metadata": {},
   "source": [
    "### One Hot Encoding sur <font color=darkred> dates"
   ]
  },
  {
   "cell_type": "code",
   "execution_count": 22,
   "metadata": {
    "collapsed": true
   },
   "outputs": [],
   "source": [
    "columns_to_ohe = [dates.columns[i] for i in range(len(dates.columns))]\n",
    "X = pd.get_dummies(training_data,columns=columns_to_ohe)\n",
    "Y = training_data['score']\n",
    "X = X.drop(['Date', 'score'], axis=1)"
   ]
  },
  {
   "cell_type": "code",
   "execution_count": 23,
   "metadata": {},
   "outputs": [
    {
     "data": {
      "text/html": [
       "<div>\n",
       "<style>\n",
       "    .dataframe thead tr:only-child th {\n",
       "        text-align: right;\n",
       "    }\n",
       "\n",
       "    .dataframe thead th {\n",
       "        text-align: left;\n",
       "    }\n",
       "\n",
       "    .dataframe tbody tr th {\n",
       "        vertical-align: top;\n",
       "    }\n",
       "</style>\n",
       "<table border=\"1\" class=\"dataframe\">\n",
       "  <thead>\n",
       "    <tr style=\"text-align: right;\">\n",
       "      <th></th>\n",
       "      <th>humidite</th>\n",
       "      <th>humidite_x</th>\n",
       "      <th>tauxCO2</th>\n",
       "      <th>Température</th>\n",
       "      <th>day_1</th>\n",
       "      <th>day_2</th>\n",
       "      <th>day_3</th>\n",
       "      <th>day_4</th>\n",
       "      <th>day_5</th>\n",
       "      <th>day_6</th>\n",
       "      <th>...</th>\n",
       "      <th>weekofyear_45</th>\n",
       "      <th>weekofyear_46</th>\n",
       "      <th>weekofyear_47</th>\n",
       "      <th>weekofyear_48</th>\n",
       "      <th>weekofyear_49</th>\n",
       "      <th>weekofyear_50</th>\n",
       "      <th>weekofyear_51</th>\n",
       "      <th>weekofyear_52</th>\n",
       "      <th>year_2017</th>\n",
       "      <th>year_2018</th>\n",
       "    </tr>\n",
       "  </thead>\n",
       "  <tbody>\n",
       "    <tr>\n",
       "      <th>0</th>\n",
       "      <td>56.0</td>\n",
       "      <td>25.7</td>\n",
       "      <td>534.0</td>\n",
       "      <td>22.7</td>\n",
       "      <td>0</td>\n",
       "      <td>0</td>\n",
       "      <td>0</td>\n",
       "      <td>0</td>\n",
       "      <td>0</td>\n",
       "      <td>0</td>\n",
       "      <td>...</td>\n",
       "      <td>0</td>\n",
       "      <td>0</td>\n",
       "      <td>0</td>\n",
       "      <td>0</td>\n",
       "      <td>0</td>\n",
       "      <td>0</td>\n",
       "      <td>0</td>\n",
       "      <td>0</td>\n",
       "      <td>1</td>\n",
       "      <td>0</td>\n",
       "    </tr>\n",
       "    <tr>\n",
       "      <th>1</th>\n",
       "      <td>55.0</td>\n",
       "      <td>25.6</td>\n",
       "      <td>544.0</td>\n",
       "      <td>22.7</td>\n",
       "      <td>0</td>\n",
       "      <td>0</td>\n",
       "      <td>0</td>\n",
       "      <td>0</td>\n",
       "      <td>0</td>\n",
       "      <td>0</td>\n",
       "      <td>...</td>\n",
       "      <td>0</td>\n",
       "      <td>0</td>\n",
       "      <td>0</td>\n",
       "      <td>0</td>\n",
       "      <td>0</td>\n",
       "      <td>0</td>\n",
       "      <td>0</td>\n",
       "      <td>0</td>\n",
       "      <td>1</td>\n",
       "      <td>0</td>\n",
       "    </tr>\n",
       "    <tr>\n",
       "      <th>2</th>\n",
       "      <td>55.0</td>\n",
       "      <td>25.7</td>\n",
       "      <td>506.0</td>\n",
       "      <td>22.8</td>\n",
       "      <td>0</td>\n",
       "      <td>0</td>\n",
       "      <td>0</td>\n",
       "      <td>0</td>\n",
       "      <td>0</td>\n",
       "      <td>0</td>\n",
       "      <td>...</td>\n",
       "      <td>0</td>\n",
       "      <td>0</td>\n",
       "      <td>0</td>\n",
       "      <td>0</td>\n",
       "      <td>0</td>\n",
       "      <td>0</td>\n",
       "      <td>0</td>\n",
       "      <td>0</td>\n",
       "      <td>1</td>\n",
       "      <td>0</td>\n",
       "    </tr>\n",
       "    <tr>\n",
       "      <th>3</th>\n",
       "      <td>55.0</td>\n",
       "      <td>25.7</td>\n",
       "      <td>499.0</td>\n",
       "      <td>22.8</td>\n",
       "      <td>0</td>\n",
       "      <td>0</td>\n",
       "      <td>0</td>\n",
       "      <td>0</td>\n",
       "      <td>0</td>\n",
       "      <td>0</td>\n",
       "      <td>...</td>\n",
       "      <td>0</td>\n",
       "      <td>0</td>\n",
       "      <td>0</td>\n",
       "      <td>0</td>\n",
       "      <td>0</td>\n",
       "      <td>0</td>\n",
       "      <td>0</td>\n",
       "      <td>0</td>\n",
       "      <td>1</td>\n",
       "      <td>0</td>\n",
       "    </tr>\n",
       "    <tr>\n",
       "      <th>4</th>\n",
       "      <td>55.0</td>\n",
       "      <td>25.9</td>\n",
       "      <td>577.0</td>\n",
       "      <td>22.9</td>\n",
       "      <td>0</td>\n",
       "      <td>0</td>\n",
       "      <td>0</td>\n",
       "      <td>0</td>\n",
       "      <td>0</td>\n",
       "      <td>0</td>\n",
       "      <td>...</td>\n",
       "      <td>0</td>\n",
       "      <td>0</td>\n",
       "      <td>0</td>\n",
       "      <td>0</td>\n",
       "      <td>0</td>\n",
       "      <td>0</td>\n",
       "      <td>0</td>\n",
       "      <td>0</td>\n",
       "      <td>1</td>\n",
       "      <td>0</td>\n",
       "    </tr>\n",
       "  </tbody>\n",
       "</table>\n",
       "<p>5 rows × 560 columns</p>\n",
       "</div>"
      ],
      "text/plain": [
       "   humidite  humidite_x  tauxCO2  Température  day_1  day_2  day_3  day_4  \\\n",
       "0      56.0        25.7    534.0         22.7      0      0      0      0   \n",
       "1      55.0        25.6    544.0         22.7      0      0      0      0   \n",
       "2      55.0        25.7    506.0         22.8      0      0      0      0   \n",
       "3      55.0        25.7    499.0         22.8      0      0      0      0   \n",
       "4      55.0        25.9    577.0         22.9      0      0      0      0   \n",
       "\n",
       "   day_5  day_6    ...      weekofyear_45  weekofyear_46  weekofyear_47  \\\n",
       "0      0      0    ...                  0              0              0   \n",
       "1      0      0    ...                  0              0              0   \n",
       "2      0      0    ...                  0              0              0   \n",
       "3      0      0    ...                  0              0              0   \n",
       "4      0      0    ...                  0              0              0   \n",
       "\n",
       "   weekofyear_48  weekofyear_49  weekofyear_50  weekofyear_51  weekofyear_52  \\\n",
       "0              0              0              0              0              0   \n",
       "1              0              0              0              0              0   \n",
       "2              0              0              0              0              0   \n",
       "3              0              0              0              0              0   \n",
       "4              0              0              0              0              0   \n",
       "\n",
       "   year_2017  year_2018  \n",
       "0          1          0  \n",
       "1          1          0  \n",
       "2          1          0  \n",
       "3          1          0  \n",
       "4          1          0  \n",
       "\n",
       "[5 rows x 560 columns]"
      ]
     },
     "execution_count": 23,
     "metadata": {},
     "output_type": "execute_result"
    }
   ],
   "source": [
    "X.head()"
   ]
  },
  {
   "cell_type": "code",
   "execution_count": 24,
   "metadata": {},
   "outputs": [
    {
     "data": {
      "text/plain": [
       "0    4.0\n",
       "1    4.0\n",
       "2    4.0\n",
       "3    4.0\n",
       "4    4.0\n",
       "Name: score, dtype: float64"
      ]
     },
     "execution_count": 24,
     "metadata": {},
     "output_type": "execute_result"
    }
   ],
   "source": [
    "Y.head()"
   ]
  },
  {
   "cell_type": "markdown",
   "metadata": {},
   "source": [
    "### <font color=darkgreen> Comparaison des Algorithmes avec Cross Validation </font><font color=darkred> avant feature selection"
   ]
  },
  {
   "cell_type": "code",
   "execution_count": 31,
   "metadata": {},
   "outputs": [],
   "source": [
    "#Modèles du ML\n",
    "models = []\n",
    "#models.append(('LR', LogisticRegression()))\n",
    "#models.append(('LDA', LinearDiscriminantAnalysis()))\n",
    "#models.append(('KNN', KNeighborsClassifier()))\n",
    "#models.append(('DTC', DecisionTreeClassifier()))\n",
    "#models.append(('SVM', SVC()))\n",
    "#models.append(('SVM', SGDClassifier()))\n",
    "#models.append(('GBC', GradientBoostingClassifier()))\n",
    "models.append(('RFC', RandomForestClassifier()))\n",
    "models.append(('ADA', AdaBoostClassifier()))\n",
    "\n",
    "#Résultats\n",
    "results = []\n",
    "names = []\n",
    "scoring = 'accuracy'"
   ]
  },
  {
   "cell_type": "code",
   "execution_count": 28,
   "metadata": {
    "collapsed": true
   },
   "outputs": [],
   "source": [
    "X_select = X.loc[::3,:]\n",
    "Y_select = Y[X_select.index]"
   ]
  },
  {
   "cell_type": "markdown",
   "metadata": {},
   "source": [
    "- L'execution de l'apprentissage des modèles prend énormément de temps. J'ai pu executer quelques uns, et voilà les résultats obtenu : \n",
    "    - Logistic Regression : 0.691097\n",
    "    - Linear Discriminant Analysis : 0.678852\n",
    "    - KNN : 0.844603 (donne le résultat le plus satisfaisant pour l'instant)\n",
    "    - Decision Tree Classifier : 0.998443 (il se peut qu'il y a eu du sur-apprentissage)\n",
    "    - SVM (SGDClassifier) : 0.569363"
   ]
  },
  {
   "cell_type": "code",
   "execution_count": null,
   "metadata": {},
   "outputs": [
    {
     "name": "stderr",
     "output_type": "stream",
     "text": [
      "/anaconda3/lib/python3.6/site-packages/sklearn/model_selection/_split.py:605: Warning: The least populated class in y has only 2 members, which is too few. The minimum number of members in any class cannot be less than n_splits=10.\n",
      "  % (min_groups, self.n_splits)), Warning)\n"
     ]
    },
    {
     "name": "stdout",
     "output_type": "stream",
     "text": [
      "LR: 0.691097 (0.031004)\n"
     ]
    },
    {
     "name": "stderr",
     "output_type": "stream",
     "text": [
      "/anaconda3/lib/python3.6/site-packages/sklearn/model_selection/_split.py:605: Warning: The least populated class in y has only 2 members, which is too few. The minimum number of members in any class cannot be less than n_splits=10.\n",
      "  % (min_groups, self.n_splits)), Warning)\n",
      "/anaconda3/lib/python3.6/site-packages/sklearn/discriminant_analysis.py:388: UserWarning: Variables are collinear.\n",
      "  warnings.warn(\"Variables are collinear.\")\n",
      "/anaconda3/lib/python3.6/site-packages/sklearn/discriminant_analysis.py:388: UserWarning: Variables are collinear.\n",
      "  warnings.warn(\"Variables are collinear.\")\n",
      "/anaconda3/lib/python3.6/site-packages/sklearn/discriminant_analysis.py:388: UserWarning: Variables are collinear.\n",
      "  warnings.warn(\"Variables are collinear.\")\n",
      "/anaconda3/lib/python3.6/site-packages/sklearn/discriminant_analysis.py:388: UserWarning: Variables are collinear.\n",
      "  warnings.warn(\"Variables are collinear.\")\n",
      "/anaconda3/lib/python3.6/site-packages/sklearn/discriminant_analysis.py:388: UserWarning: Variables are collinear.\n",
      "  warnings.warn(\"Variables are collinear.\")\n",
      "/anaconda3/lib/python3.6/site-packages/sklearn/discriminant_analysis.py:388: UserWarning: Variables are collinear.\n",
      "  warnings.warn(\"Variables are collinear.\")\n",
      "/anaconda3/lib/python3.6/site-packages/sklearn/discriminant_analysis.py:388: UserWarning: Variables are collinear.\n",
      "  warnings.warn(\"Variables are collinear.\")\n",
      "/anaconda3/lib/python3.6/site-packages/sklearn/discriminant_analysis.py:388: UserWarning: Variables are collinear.\n",
      "  warnings.warn(\"Variables are collinear.\")\n",
      "/anaconda3/lib/python3.6/site-packages/sklearn/discriminant_analysis.py:388: UserWarning: Variables are collinear.\n",
      "  warnings.warn(\"Variables are collinear.\")\n",
      "/anaconda3/lib/python3.6/site-packages/sklearn/discriminant_analysis.py:388: UserWarning: Variables are collinear.\n",
      "  warnings.warn(\"Variables are collinear.\")\n"
     ]
    },
    {
     "name": "stdout",
     "output_type": "stream",
     "text": [
      "LDA: 0.678852 (0.030723)\n"
     ]
    },
    {
     "name": "stderr",
     "output_type": "stream",
     "text": [
      "/anaconda3/lib/python3.6/site-packages/sklearn/model_selection/_split.py:605: Warning: The least populated class in y has only 2 members, which is too few. The minimum number of members in any class cannot be less than n_splits=10.\n",
      "  % (min_groups, self.n_splits)), Warning)\n"
     ]
    },
    {
     "name": "stdout",
     "output_type": "stream",
     "text": [
      "KNN: 0.844603 (0.013853)\n"
     ]
    },
    {
     "name": "stderr",
     "output_type": "stream",
     "text": [
      "/anaconda3/lib/python3.6/site-packages/sklearn/model_selection/_split.py:605: Warning: The least populated class in y has only 2 members, which is too few. The minimum number of members in any class cannot be less than n_splits=10.\n",
      "  % (min_groups, self.n_splits)), Warning)\n"
     ]
    },
    {
     "name": "stdout",
     "output_type": "stream",
     "text": [
      "DTC: 0.998443 (0.001215)\n"
     ]
    },
    {
     "name": "stderr",
     "output_type": "stream",
     "text": [
      "/anaconda3/lib/python3.6/site-packages/sklearn/model_selection/_split.py:605: Warning: The least populated class in y has only 2 members, which is too few. The minimum number of members in any class cannot be less than n_splits=10.\n",
      "  % (min_groups, self.n_splits)), Warning)\n"
     ]
    }
   ],
   "source": [
    "X0 = X_select.as_matrix()\n",
    "Y0 = Y_select.as_matrix().ravel()\n",
    "for name, model in models:\n",
    "    kfold = StratifiedKFold(n_splits=10, random_state=7) #division des données d'entrainement en 10 folds pour la cross validation\n",
    "    cv_results = cross_val_score(model, X0, Y0, cv=kfold, scoring=scoring) #resultat de la cross_validation\n",
    "    results.append(cv_results)\n",
    "    names.append(name)\n",
    "    msg = \"%s: %f (%f)\" % (name, cv_results.mean(), cv_results.std())\n",
    "    print(msg)"
   ]
  },
  {
   "cell_type": "code",
   "execution_count": 35,
   "metadata": {},
   "outputs": [
    {
     "name": "stdout",
     "output_type": "stream",
     "text": [
      "Performances de KNN avant feature_selection\n",
      "             precision    recall  f1-score   support\n",
      "\n",
      "          1       0.79      0.76      0.77      2351\n",
      "          2       0.89      0.88      0.88     30639\n",
      "          3       0.91      0.94      0.92     62740\n",
      "          4       0.66      0.46      0.54      4869\n",
      "\n",
      "avg / total       0.89      0.89      0.89    100599\n",
      "\n"
     ]
    },
    {
     "name": "stderr",
     "output_type": "stream",
     "text": [
      "/anaconda3/lib/python3.6/site-packages/sklearn/metrics/classification.py:1428: UserWarning: labels size, 4, does not match size of target_names, 5\n",
      "  .format(len(labels), len(target_names))\n"
     ]
    }
   ],
   "source": [
    "#répartition des données en 70% train et 30% test de façon aléatoire\n",
    "X_train0, X_test0, y_train0, y_test0 = train_test_split(X0, Y0, test_size=0.3, random_state=32)\n",
    "\n",
    "#Meilleur classifier \n",
    "best_classifier = KNeighborsClassifier()\n",
    "\n",
    "#Entrainement du classifieur\n",
    "best_classifier.fit(X_train0, y_train0.ravel())\n",
    "\n",
    "#Prédiction sur X_test0\n",
    "y_predicted0=best_classifier.predict(X_test0)\n",
    "\n",
    "#Evaluation des performances\n",
    "print('Performances de KNN avant feature_selection')\n",
    "print(classification_report(y_test0, y_predicted0, target_names=['1', '2', '3', '4', '5']))"
   ]
  },
  {
   "cell_type": "markdown",
   "metadata": {},
   "source": [
    "### <font color=darkgreen> Feature selection avec </font><font color=darkred> feature importance"
   ]
  },
  {
   "cell_type": "code",
   "execution_count": null,
   "metadata": {
    "collapsed": true
   },
   "outputs": [],
   "source": []
  }
 ],
 "metadata": {
  "kernelspec": {
   "display_name": "Python 3",
   "language": "python",
   "name": "python3"
  },
  "language_info": {
   "codemirror_mode": {
    "name": "ipython",
    "version": 3
   },
   "file_extension": ".py",
   "mimetype": "text/x-python",
   "name": "python",
   "nbconvert_exporter": "python",
   "pygments_lexer": "ipython3",
   "version": "3.6.3"
  }
 },
 "nbformat": 4,
 "nbformat_minor": 2
}
